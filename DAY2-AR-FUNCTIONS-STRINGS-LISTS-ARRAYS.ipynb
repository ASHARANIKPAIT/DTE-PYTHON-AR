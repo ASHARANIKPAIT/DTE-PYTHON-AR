{
 "cells": [
  {
   "cell_type": "markdown",
   "source": [
    "<div style=\"text-align: center\"> <div style=\"color:yellow\"> <font size=\"13\"> <p><b>FUNCTIONS IN PYTHON </b></p></div> </div></font>\n",
    "<div style=\"color:white\"> <font size=\"10\">\n",
    "<ul>\n",
    "  <li>A function is a block of code which only runs when it is called.</li>\n",
    "  <li>A function is Reusable piece of code.</li>\n",
    "  <li>Functions are created for solving a specific problem.</li>\n",
    "  <li>You can pass data, known as parameters, into a function.</li>\n",
    "  <li>A function can return data as a result.</li>\n",
    "</ul>\n",
    "</div></font>\n",
    "<div style=\"text-align: center\">\n",
    "<img src=\"PICTURES/DAY2-F1.png\" width=\"600\" height=\"150\" /></div>\n",
    "\n"
   ],
   "metadata": {
    "collapsed": false,
    "pycharm": {
     "name": "#%% md\n"
    }
   }
  },
  {
   "cell_type": "markdown",
   "source": [
    "<div style=\"text-align: center\"> <div style=\"color:yellow\"> <font size=\"13\"> <p><b>BUILT-IN FUNCTIONS IN PYTHON </b></p></div> </div></font>\n",
    "<div style=\"text-align: center\">\n",
    "\n",
    "<img src=\"PICTURES/DAY2-F2.png\" width=\"1000\" height=\"600\" /></div>"
   ],
   "metadata": {
    "collapsed": false,
    "pycharm": {
     "name": "#%% md\n"
    }
   }
  },
  {
   "cell_type": "code",
   "execution_count": 1,
   "outputs": [
    {
     "data": {
      "text/plain": "3"
     },
     "execution_count": 1,
     "metadata": {},
     "output_type": "execute_result"
    }
   ],
   "source": [
    "# Built-in Functions Examples\n",
    "\n",
    "abs(-3)"
   ],
   "metadata": {
    "collapsed": false,
    "pycharm": {
     "name": "#%%\n"
    }
   }
  },
  {
   "cell_type": "code",
   "execution_count": 2,
   "outputs": [
    {
     "data": {
      "text/plain": "1"
     },
     "execution_count": 2,
     "metadata": {},
     "output_type": "execute_result"
    }
   ],
   "source": [
    "# Built-in Functions Examples\n",
    "\n",
    "min(1, 2, 3, 4, 5)"
   ],
   "metadata": {
    "collapsed": false,
    "pycharm": {
     "name": "#%%\n"
    }
   }
  },
  {
   "cell_type": "code",
   "execution_count": 3,
   "outputs": [
    {
     "data": {
      "text/plain": "8"
     },
     "execution_count": 3,
     "metadata": {},
     "output_type": "execute_result"
    }
   ],
   "source": [
    "# Built-in Functions Examples\n",
    "\n",
    "max(4, 5, 6, 7, 8)"
   ],
   "metadata": {
    "collapsed": false,
    "pycharm": {
     "name": "#%%\n"
    }
   }
  },
  {
   "cell_type": "code",
   "execution_count": 4,
   "outputs": [
    {
     "data": {
      "text/plain": "(2, 1)"
     },
     "execution_count": 4,
     "metadata": {},
     "output_type": "execute_result"
    }
   ],
   "source": [
    "# Built-in Functions Examples\n",
    "\n",
    "divmod(5, 2)"
   ],
   "metadata": {
    "collapsed": false,
    "pycharm": {
     "name": "#%%\n"
    }
   }
  },
  {
   "cell_type": "code",
   "execution_count": 5,
   "outputs": [
    {
     "data": {
      "text/plain": "(2.0, 2.5)"
     },
     "execution_count": 5,
     "metadata": {},
     "output_type": "execute_result"
    }
   ],
   "source": [
    "# Built-in Functions Examples\n",
    "\n",
    "divmod(8.5, 3)"
   ],
   "metadata": {
    "collapsed": false,
    "pycharm": {
     "name": "#%%\n"
    }
   }
  },
  {
   "cell_type": "code",
   "execution_count": 6,
   "outputs": [
    {
     "data": {
      "text/plain": "9"
     },
     "execution_count": 6,
     "metadata": {},
     "output_type": "execute_result"
    }
   ],
   "source": [
    "# Built-in Functions Examples\n",
    "\n",
    "pow(3, 2)"
   ],
   "metadata": {
    "collapsed": false,
    "pycharm": {
     "name": "#%%\n"
    }
   }
  },
  {
   "cell_type": "code",
   "execution_count": 7,
   "outputs": [
    {
     "data": {
      "text/plain": "5"
     },
     "execution_count": 7,
     "metadata": {},
     "output_type": "execute_result"
    }
   ],
   "source": [
    "# Built-in Functions Examples\n",
    "\n",
    "len(\"Japan\")"
   ],
   "metadata": {
    "collapsed": false,
    "pycharm": {
     "name": "#%%\n"
    }
   }
  },
  {
   "cell_type": "markdown",
   "source": [
    "<div style=\"text-align: center\"> <div style=\"color:yellow\"> <font size=\"13\"> <p><b>USERDEFINED FUNCTIONS </b></p></div> </div></font>\n",
    "<div style=\"color:white\"> <font size=\"10\">\n",
    "<ul>\n",
    "  <li>Functions that we define ourselves to do certain specific task are referred as user-defined functions.</li>\n",
    "  </ul>\n",
    "</div></font>\n",
    "\n",
    "\n",
    "<div style=\"text-align: center\"> <div style=\"color:blue\"> <font size=\"7\"> <p><b>CREATING A FUNCTION </b></p></div> </div></font>\n",
    "<div style=\"color:white\"> <font size=\"10\">\n",
    "<ul>\n",
    "  <li>In Python a function is defined using the <strong>def</strong> keyword:</li>\n",
    "  </ul>\n",
    "</div></font>\n",
    "<div style=\"text-align: center\">\n",
    "<img src=\"PICTURES/DAY2-F5.png\" width=\"600\" height=\"250\" />\n",
    "<div style=\"text-align: center\">\n",
    "<div style=\"text-align: center\">\n",
    "<img src=\"PICTURES/DAY2-F6.png\" width=\"600\" height=\"150\" />\n",
    "<div style=\"text-align: center\">\n",
    "<img src=\"PICTURES/DAY2-F3.png\" width=\"600\" height=\"300\" />\n",
    "<div style=\"text-align: center\">\n",
    "<img src=\"PICTURES/DAY2-F4.png\" width=\"600\" height=\"400\" />\n",
    "\n",
    "\n",
    "\n",
    "<div style=\"text-align: center\"> <div style=\"color:blue\"> <font size=\"7\"> <p><b>CALLING A FUNCTION </b></p></div> </div></font>\n",
    "<div style=\"color:white\"> <font size=\"10\">\n",
    "<ul>\n",
    "  <li>To call a function, use the function name followed by parenthesis</li>\n",
    "  </ul>\n",
    "</div></font>\n",
    "<div style=\"text-align: center\">\n",
    "<img src=\"PICTURES/DAY2-F7.png\" width=\"450\" height=\"300\" />\n",
    "<div style=\"text-align: center\">"
   ],
   "metadata": {
    "collapsed": false,
    "pycharm": {
     "name": "#%% md\n"
    }
   }
  },
  {
   "cell_type": "code",
   "execution_count": 8,
   "outputs": [],
   "source": [
    "#Example\n",
    "#CREATING A FUNCTION----FUNCTION DEFINITION--- WILL NOT BE EXECUTED UNTIL ITS CALLED\n",
    "\n",
    "def my_function():\n",
    "  print(\"WELCOME TO FUNCTIONS IN PYTHON\")\n",
    "  print(\"Inside Function Definition\")"
   ],
   "metadata": {
    "collapsed": false,
    "pycharm": {
     "name": "#%%\n"
    }
   }
  },
  {
   "cell_type": "code",
   "execution_count": 9,
   "outputs": [
    {
     "name": "stdout",
     "output_type": "stream",
     "text": [
      "WELCOME TO FUNCTIONS IN PYTHON \n",
      "Inside Function Definition\n"
     ]
    }
   ],
   "source": [
    "#Example\n",
    "#FUNCTION DEFINITION---- FUNCTION CALL----- To call a function use the function name.\n",
    "\n",
    "#FUNCTION DEFINITION\n",
    "def my_function():\n",
    "  print(\"WELCOME TO FUNCTIONS IN PYTHON \")\n",
    "  print(\"Inside Function Definition\")\n",
    "\n",
    "#CALLING FUNCTION\n",
    "my_function()"
   ],
   "metadata": {
    "collapsed": false,
    "pycharm": {
     "name": "#%%\n"
    }
   }
  },
  {
   "cell_type": "markdown",
   "source": [
    "<div style=\"text-align: center\"> <div style=\"color:blue\"> <font size=\"7\"> <p><b>main() FUNCTION IN PYTHON </b></p></div> </div></font>\n",
    "<div style=\"color:white\"> <font size=\"10\">\n",
    "</div></font>\n",
    "<div style=\"text-align: center\">\n",
    "<div style=\"text-align: right\">  </div>\n",
    "<img src=\"PICTURES/DAY2-F8.png\" width=\"900\" height=\"500\" />"
   ],
   "metadata": {
    "collapsed": false,
    "pycharm": {
     "name": "#%% md\n"
    }
   }
  },
  {
   "cell_type": "code",
   "execution_count": 10,
   "outputs": [
    {
     "name": "stdout",
     "output_type": "stream",
     "text": [
      "Outside main() Function\n",
      "Inside  main() Function\n"
     ]
    }
   ],
   "source": [
    "#Example\n",
    "print(\"Outside main() Function\")\n",
    "#FUNCTION DEFINITION\n",
    "def main():\n",
    "    print(\"Inside  main() Function\")\n",
    "\n",
    "if __name__ == \"__main__\":\n",
    "    main()\n"
   ],
   "metadata": {
    "collapsed": false,
    "pycharm": {
     "name": "#%%\n"
    }
   }
  },
  {
   "cell_type": "markdown",
   "source": [
    "<div style=\"text-align: center\">\n",
    "<div style=\"text-align: right\">  </div>\n",
    "<img src=\"PICTURES/DAY2-F9.png\" width=\"700\" height=\"500\" />"
   ],
   "metadata": {
    "collapsed": false,
    "pycharm": {
     "name": "#%% md\n"
    }
   }
  },
  {
   "cell_type": "code",
   "source": [
    "#Let’s see an example without the main function.\n",
    "\n",
    "#Example:\n",
    "\n",
    "print(\"Good Morning\")\n",
    "\n",
    "def main():\n",
    "          print(\"Hello Python\")\n",
    "\n",
    "print(\"Good Evening\")"
   ],
   "metadata": {
    "collapsed": false,
    "pycharm": {
     "name": "#%%\n"
    }
   },
   "execution_count": 11,
   "outputs": [
    {
     "name": "stdout",
     "output_type": "stream",
     "text": [
      "Good Morning\n",
      "Good Evening\n"
     ]
    }
   ]
  },
  {
   "cell_type": "markdown",
   "source": [
    "\n",
    "<div style=\"color:white\"> <font size=\"10\">\n",
    "<ul>\n",
    "  <li>If we observe the above program, it has printed only ‘Good Morning’ and ‘Good Evening’  and it did not print the term ‘Hello Python’ which is because we didn’t call it manually or we didn’t use the python’s main function here.</li>\n",
    "  </ul>\n",
    "</div></font>\n"
   ],
   "metadata": {
    "collapsed": false,
    "pycharm": {
     "name": "#%% md\n"
    }
   }
  },
  {
   "cell_type": "code",
   "source": [
    "#Now let’s see the program with function call if __name__ == “__main__”.\n",
    "\n",
    "#Example 2:\n",
    "\n",
    "print(\"Good Morning\")\n",
    "\n",
    "def main():\n",
    "          print(\"Hello Python\")\n",
    "\n",
    "print(\"Good Evening\")\n",
    "\n",
    "if __name__ == \"__main__\":\n",
    "         main()"
   ],
   "metadata": {
    "collapsed": false,
    "pycharm": {
     "name": "#%%\n"
    }
   },
   "execution_count": 12,
   "outputs": [
    {
     "name": "stdout",
     "output_type": "stream",
     "text": [
      "Good Morning\n",
      "Good Evening\n",
      "Hello Python\n"
     ]
    }
   ]
  },
  {
   "cell_type": "markdown",
   "source": [
    "<div style=\"color:white\"> <font size=\"10\">\n",
    "<ul>\n",
    "  <li>If you observe the above program you may get a question – why Hello Python is printed? That’s because we are calling the main function at the end of the code, hence it prints ‘Good Morning’ first, ‘Good Evening’ next and ‘Hello Python’ at the end.</li>\n",
    "  </ul>\n",
    "</div></font>"
   ],
   "metadata": {
    "collapsed": false,
    "pycharm": {
     "name": "#%% md\n"
    }
   }
  },
  {
   "cell_type": "code",
   "source": [
    "#Program to Demonstrate a Function with and without Arguments\n",
    "def function_definition_with_no_argument():\n",
    "    print(\"This is a function definition with NO Argument\")\n",
    "def function_definition_with_one_argument(message):\n",
    "    print(f\"This is a function definition with {message}\")\n",
    "def main():\n",
    "    function_definition_with_no_argument()\n",
    "    function_definition_with_one_argument(\"One Argument\")\n",
    "if __name__ == \"__main__\":\n",
    "    main()"
   ],
   "metadata": {
    "collapsed": false,
    "pycharm": {
     "name": "#%%\n"
    }
   },
   "execution_count": 13,
   "outputs": [
    {
     "name": "stdout",
     "output_type": "stream",
     "text": [
      "This is a function definition with NO Argument\n",
      "This is a function definition with One Argument\n"
     ]
    }
   ]
  },
  {
   "cell_type": "markdown",
   "source": [
    "<div style=\"text-align: center\"> <div style=\"color:yellow\"> <font size=\"13\"> <p><b>return STATEMENT IN PYTHON </b></p></div> </div></font>\n",
    "<div style=\"color:white\"> <font size=\"10\">\n",
    "<ul>\n",
    "  <li>The python return statement is used in a function to return something to the caller program.</li>\n",
    "  <li>We can use the return statement inside a function only.</li>\n",
    "  <li>In Python, every function returns something. If there are no return statements, then it returns None.</li>\n",
    "  <li>If the return statement contains an expression, it’s evaluated first and then the value is returned.</li>\n",
    "  <li>The return statement terminates the function execution.</li>\n",
    "  <li>A function can have multiple return statements. When any of them is executed, the function terminates.</li>\n",
    "  <li>A function can return multiple types of values.</li>\n",
    "  <li>Python function can return multiple values in a single return statement.</li>\n",
    "\n",
    "\n",
    "<div style=\"text-align: center\"> <div style=\"color:BLUE\"> <font size=\"13\"> <p><b>return STATEMENT EXAMPLE </b></p></div> </div></font>\n",
    "<div style=\"color:white\"> <font size=\"10\">\n",
    "<ul>\n",
    "  <li>Let’s look at a simple example to add two numbers and return the total to the caller.</li>\n",
    "</ul>\n",
    "</div></font>\n",
    "<div style=\"text-align: center\">\n",
    "<img src=\"PICTURES/DAY2-F10.png\" width=\"350\" height=\"100\" /></div>\n",
    "\n",
    "\n",
    "<div style=\"text-align: center\"> <div style=\"color:BLUE\"> <font size=\"13\"> <p><b>return STATEMENT EXAMPLE </b></p></div> </div></font>\n",
    "<div style=\"color:white\"> <font size=\"10\">\n",
    "<ul>\n",
    "  <li>We can optimize the function by having the expression in the return statement.</li>\n",
    "</ul>\n",
    "</div></font>\n",
    "<div style=\"text-align: center\">\n",
    "<img src=\"PICTURES/DAY2-F11.png\" width=\"350\" height=\"90\" /></div>\n",
    "\n",
    "<div style=\"text-align: center\"> <div style=\"color:BLUE\"> <font size=\"13\"> <p><b>Python Functions can have multiple return statements</b></p></div> </div></font>\n",
    "<div style=\"color:white\"> <font size=\"10\">\n",
    "<ul>\n",
    "  <li>Single function can have multiple return statements. Execution of the function ends when one of these return statements is reached:</li>\n",
    "</ul>\n",
    "</div></font>\n",
    "<div style=\"text-align: center\">\n",
    "<img src=\"PICTURES/DAY2-F12.png\" width=\"400\" height=\"200\" /></div>\n",
    "\n",
    "\n"
   ],
   "metadata": {
    "collapsed": false,
    "pycharm": {
     "name": "#%% md\n"
    }
   }
  },
  {
   "cell_type": "code",
   "execution_count": 14,
   "outputs": [
    {
     "name": "stdout",
     "output_type": "stream",
     "text": [
      "SUM OF 2 NUMBERS = 7\n"
     ]
    }
   ],
   "source": [
    "def add(x, y):\n",
    "    total = x + y\n",
    "    return total\n",
    "\n",
    "ans=add(2,5)\n",
    "print(\"SUM OF 2 NUMBERS =\",ans)"
   ],
   "metadata": {
    "collapsed": false,
    "pycharm": {
     "name": "#%%\n"
    }
   }
  },
  {
   "cell_type": "code",
   "execution_count": 15,
   "outputs": [
    {
     "name": "stdout",
     "output_type": "stream",
     "text": [
      "SUM OF 2 NUMBERS = 7\n"
     ]
    }
   ],
   "source": [
    "def add(x, y):\n",
    "    return x+y\n",
    "\n",
    "ans=add(2,5)\n",
    "print(\"SUM OF 2 NUMBERS =\",ans)"
   ],
   "metadata": {
    "collapsed": false,
    "pycharm": {
     "name": "#%%\n"
    }
   }
  },
  {
   "cell_type": "code",
   "execution_count": 16,
   "outputs": [
    {
     "data": {
      "text/plain": "'odd'"
     },
     "execution_count": 16,
     "metadata": {},
     "output_type": "execute_result"
    }
   ],
   "source": [
    "i=15\n",
    "def type_of_int(i):\n",
    "    if i % 2 == 0:\n",
    "        return 'even'\n",
    "    else:\n",
    "        return 'odd'\n",
    "type_of_int(i)\n"
   ],
   "metadata": {
    "collapsed": false,
    "pycharm": {
     "name": "#%%\n"
    }
   }
  },
  {
   "cell_type": "markdown",
   "source": [
    "<div style=\"text-align: center\"> <div style=\"color:BLUE\"> <font size=\"13\"> <p><b>Python Function can return multiple types of values</b></p></div> </div></font>\n",
    "<div style=\"color:white\"> <font size=\"10\">\n",
    "<ul>\n",
    "  <li>Unlike other programming languages, python functions are not restricted to return a single type of value.</li>\n",
    "  <li>If you look at the function definition, it doesn’t have any information about what it can return.</li>\n",
    "</ul>"
   ],
   "metadata": {
    "collapsed": false,
    "pycharm": {
     "name": "#%% md\n"
    }
   }
  },
  {
   "cell_type": "code",
   "execution_count": 17,
   "outputs": [
    {
     "name": "stdout",
     "output_type": "stream",
     "text": [
      "Hello World.\n",
      "42\n",
      "True\n"
     ]
    }
   ],
   "source": [
    "def various_return_types(n):\n",
    "    if(n==1):\n",
    "        return \"Hello World.\"     # Return a string\n",
    "    elif(n==2):\n",
    "        return 42                 # Return a value\n",
    "    else:\n",
    "        return True               # Return a boolean\n",
    "print(various_return_types(1))\n",
    " \t\t\t\t\t\t\t\t                   #OUTPUT-Hello World.\n",
    "print(various_return_types(2))\n",
    " \t\t\t\t\t\t\t\t                   #OUTPUT-42\n",
    "print(various_return_types(3))\n",
    " \t\t\t\t\t\t\t\t                   #OUTPUT-True\n"
   ],
   "metadata": {
    "collapsed": false,
    "pycharm": {
     "name": "#%%\n"
    }
   }
  },
  {
   "cell_type": "markdown",
   "source": [
    "<div style=\"text-align: center\"> <div style=\"color:BLUE\"> <font size=\"13\"> <p><b>Returning Multiple Values in a single return Statement</b></p></div> </div></font>\n",
    "<div style=\"color:white\"> <font size=\"10\">\n",
    "<ul>\n",
    "  <li>We can return multiple values from a single return statement. These values are separated by a comma and returned as a tuple to the caller program.</li>\n",
    "</ul>\n",
    "</div></font>\n",
    "<div style=\"text-align: center\">\n",
    "<img src=\"PICTURES/DAY2-F13.png\" width=\"400\" height=\"200\" /></div>"
   ],
   "metadata": {
    "collapsed": false,
    "pycharm": {
     "name": "#%% md\n"
    }
   }
  },
  {
   "cell_type": "code",
   "source": [
    "def return_multiple_values():\n",
    "    return 1, 2, 3\n",
    "\n",
    "print(return_multiple_values())\n",
    "print(type(return_multiple_values()))"
   ],
   "metadata": {
    "collapsed": false,
    "pycharm": {
     "name": "#%%\n"
    }
   },
   "execution_count": 18,
   "outputs": [
    {
     "name": "stdout",
     "output_type": "stream",
     "text": [
      "(1, 2, 3)\n",
      "<class 'tuple'>\n"
     ]
    }
   ]
  },
  {
   "cell_type": "code",
   "execution_count": 19,
   "outputs": [
    {
     "name": "stdout",
     "output_type": "stream",
     "text": [
      "The war was won by  and the war ended in \n"
     ]
    }
   ],
   "source": [
    "#Program to Demonstrate the Return of Multiple Values from a Function Definition\n",
    "def world_war():\n",
    "    alliance_world_war = input(\"Which alliance won World War 2?\")\n",
    "    world_war_end_year = input(\"When did World War 2 end?\")\n",
    "    return alliance_world_war, world_war_end_year\n",
    "def main():\n",
    "    alliance, war_end_year = world_war()\n",
    "    print(f\"The war was won by {alliance} and the war ended in {war_end_year}\")\n",
    "if __name__ == \"__main__\":\n",
    "    main()"
   ],
   "metadata": {
    "collapsed": false,
    "pycharm": {
     "name": "#%%\n"
    }
   }
  },
  {
   "cell_type": "code",
   "execution_count": 20,
   "outputs": [
    {
     "ename": "ValueError",
     "evalue": "invalid literal for int() with base 10: ''",
     "output_type": "error",
     "traceback": [
      "\u001B[1;31m---------------------------------------------------------------------------\u001B[0m",
      "\u001B[1;31mValueError\u001B[0m                                Traceback (most recent call last)",
      "\u001B[1;32mC:\\Users\\ASHARA~1\\AppData\\Local\\Temp/ipykernel_36476/1508858885.py\u001B[0m in \u001B[0;36m<module>\u001B[1;34m\u001B[0m\n\u001B[0;32m      1\u001B[0m \u001B[1;31m#Program to Check If a 3 Digit Number Is Armstrong Number or Not\u001B[0m\u001B[1;33m\u001B[0m\u001B[1;33m\u001B[0m\u001B[0m\n\u001B[1;32m----> 2\u001B[1;33m \u001B[0muser_number\u001B[0m \u001B[1;33m=\u001B[0m \u001B[0mint\u001B[0m\u001B[1;33m(\u001B[0m\u001B[0minput\u001B[0m\u001B[1;33m(\u001B[0m\u001B[1;34m\"Enter a 3 digit positive number to check for Armstrong number\"\u001B[0m\u001B[1;33m)\u001B[0m\u001B[1;33m)\u001B[0m\u001B[1;33m\u001B[0m\u001B[1;33m\u001B[0m\u001B[0m\n\u001B[0m\u001B[0;32m      3\u001B[0m \u001B[1;32mdef\u001B[0m \u001B[0mcheck_armstrong_number\u001B[0m\u001B[1;33m(\u001B[0m\u001B[0mnumber\u001B[0m\u001B[1;33m)\u001B[0m\u001B[1;33m:\u001B[0m\u001B[1;33m\u001B[0m\u001B[1;33m\u001B[0m\u001B[0m\n\u001B[0;32m      4\u001B[0m     \u001B[0mresult\u001B[0m \u001B[1;33m=\u001B[0m \u001B[1;36m0\u001B[0m\u001B[1;33m\u001B[0m\u001B[1;33m\u001B[0m\u001B[0m\n\u001B[0;32m      5\u001B[0m     \u001B[0mtemp\u001B[0m \u001B[1;33m=\u001B[0m \u001B[0mnumber\u001B[0m\u001B[1;33m\u001B[0m\u001B[1;33m\u001B[0m\u001B[0m\n",
      "\u001B[1;31mValueError\u001B[0m: invalid literal for int() with base 10: ''"
     ]
    }
   ],
   "source": [
    "#Program to Check If a 3 Digit Number Is Armstrong Number or Not\n",
    "user_number = int(input(\"Enter a 3 digit positive number to check for Armstrong number\"))\n",
    "def check_armstrong_number(number):\n",
    "    result = 0\n",
    "    temp = number\n",
    "    while temp != 0:\n",
    "        last_digit = temp % 10\n",
    "        result += pow(last_digit, 3)\n",
    "        temp = int(temp / 10)\n",
    "    if number == result:\n",
    "        print(f\"Entered number {number} is a Armstrong number\")\n",
    "    else:\n",
    "        print(f\"Entered number {number} is not a Armstrong number\")\n",
    "\n",
    "def main():\n",
    "    check_armstrong_number(user_number)\n",
    "\n",
    "if __name__ == \"__main__\":\n",
    "    main()"
   ],
   "metadata": {
    "collapsed": false,
    "pycharm": {
     "name": "#%%\n"
    }
   }
  },
  {
   "cell_type": "markdown",
   "source": [
    "<div style=\"text-align: center\"> <div style=\"color:BLUE\"> <font size=\"13\"> <p><b>Void Functions</b></p></div> </div></font>\n",
    "<div style=\"color:white\"> <font size=\"10\">\n",
    "<ul>\n",
    "  <li>In Python, it is possible to define functions without a return statement. </li>\n",
    "  <li>Functions like this are called <strong>void</strong> functions, and they return None. </li>\n",
    "</ul>"
   ],
   "metadata": {
    "collapsed": false,
    "pycharm": {
     "name": "#%% md\n"
    }
   }
  },
  {
   "cell_type": "markdown",
   "source": [
    "<div style=\"text-align: center\"> <div style=\"color:yellow\"> <font size=\"13\"> <p><b>SCOPE & LIFETIME OF VARIABLES IN PYTHON </b></p></div> </div></font>\n",
    "<div style=\"color:white\"> <font size=\"10\">\n",
    "<ul>\n",
    "  <li>Python programs have two scopes: global and local. </li>\n",
    "  <li>A variable is a global variable if its value is accessible and modifiable throughout your program. Global variables have a global scope. </li>\n",
    "  <li>A variable that is defined inside a function definition is a local variable. </li>\n",
    "  <li>The lifetime of a variable refers to the duration of its existence. </li>\n",
    "  <li>The lifetime of a variable refers to the duration of its existence. </li>\n",
    "  <li>The local variable is created and destroyed every time the function is executed, and it cannot be accessed by any code outside the function definition. </li>\n",
    "  <li>Local variables inside a function definition have local scope and exist as long as the function is executing.</li>\n",
    "</ul>\n"
   ],
   "metadata": {
    "collapsed": false,
    "pycharm": {
     "name": "#%% md\n"
    }
   }
  },
  {
   "cell_type": "code",
   "execution_count": null,
   "outputs": [],
   "source": [
    "#Program to Demonstrate the Scope of Variables\n",
    "test_variable = 5\n",
    "\n",
    "def outer_function():\n",
    "    test_variable = 60\n",
    "\n",
    "def inner_function():\n",
    "    test_variable = 100\n",
    "\n",
    "print(f\"Local variable value of {test_variable} having local scope to inner function is displayed\")\n",
    "inner_function()\n",
    "print(f\"Local variable value of {test_variable} having local scope to outer function is displayed \")\n",
    "outer_function()\n",
    "print(f\"Global variable value of {test_variable} is displayed \")"
   ],
   "metadata": {
    "collapsed": false,
    "pycharm": {
     "name": "#%%\n"
    }
   }
  },
  {
   "cell_type": "markdown",
   "source": [
    "<div style=\"text-align: center\"> <div style=\"color:yellow\"> <font size=\"13\"> <p><b>ARGUMENTS IN PYTHON </b></p></div> </div></font>\n",
    "<div style=\"color:white\"> <font size=\"10\">\n",
    "<ul>\n",
    "<div style=\"text-align: LEFT\"> <div style=\"color:BLUE\"> <font size=\"13\"> <p><b>1.Python Default Arguments</b></p></div> </div></font>\n",
    "<div style=\"color:white\"> <font size=\"12\">\n",
    "  <li>Function arguments can have default values in Python.</li>\n",
    "        <li>We can provide a default value to an argument by using the assignment operator (=).</li>\n",
    "\n",
    "\n",
    "<div style=\"text-align: LEFT\"> <div style=\"color:BLUE\"> <font size=\"13\"> <p><b>2.Python Keyword Arguments </b></p></div> </div></font>\n",
    "<div style=\"color:white\"> <font size=\"12\">\n",
    "    <li>Python allows functions to be called using keyword arguments.</li>\n",
    "    <li>When we call functions in this way, the order (position) of the arguments can be changed. </li>\n",
    "    <li>In the calling function, you can explicitly specify the argument name along with their value in the form kwarg = value.</li>\n",
    "    <li> In the calling function, keyword arguments must follow positional arguments. </li>\n",
    "    <li>All the keyword arguments passed must match one of the parameters in the function definition and their order is not important. </li>\n",
    "    <li>No parameter in the function definition may receive a value more than once.</li>\n",
    "\n",
    " </ul>"
   ],
   "metadata": {
    "collapsed": false,
    "pycharm": {
     "name": "#%% md\n"
    }
   }
  },
  {
   "cell_type": "code",
   "execution_count": null,
   "outputs": [],
   "source": [
    "#ARGUMENTS IN FUNCTION-----Information can be passed into functions as arguments.\n",
    "\n",
    "def my_function(fname):\n",
    "  print(fname + \" PROGRAMMING\")\n",
    "\n",
    "my_function(\"THINKING\")\n",
    "my_function(\"INTRODUCTION TO PYTHON\")\n",
    "my_function(\"USER-DEFINED FUNCTIONS IN PYTHON\")"
   ],
   "metadata": {
    "collapsed": false,
    "pycharm": {
     "name": "#%%\n"
    }
   }
  },
  {
   "cell_type": "code",
   "execution_count": null,
   "outputs": [],
   "source": [
    "def greet(name, msg=\"Good Morning!\"):\n",
    "    \"\"\"\n",
    "    This function greets to\n",
    "    the person with the\n",
    "    provided message.\n",
    "\n",
    "    If the message is not provided,\n",
    "    it defaults to \"Good\n",
    "    morning!\"\n",
    "    \"\"\"\n",
    "\n",
    "    print(\"Hello\", name + ', ' + msg)\n",
    "\n",
    "\n",
    "greet(\"KARTHIK\")\n",
    "greet(\"MANJUNATH\", \"How do you do?\")"
   ],
   "metadata": {
    "collapsed": false,
    "pycharm": {
     "name": "#%%\n"
    }
   }
  },
  {
   "cell_type": "markdown",
   "source": [
    "<div style=\"color:white\"> <font size=\"6\">\n",
    "<ul>\n",
    "  <li>In this function, the parameter name does not have a default value and is required (mandatory) during a call.</li>\n",
    "  <li>On the other hand, the parameter msg has a default value of \"Good morning!\". So, it is optional during a call. </li>\n",
    "  <li>If a value is provided, it will overwrite the default value.</li>\n",
    "  <li>Any number of arguments in a function can have a default value. But once we have a default argument, all the arguments to its right must also have default values.</li>\n",
    " </ul>"
   ],
   "metadata": {
    "collapsed": false,
    "pycharm": {
     "name": "#%% md\n"
    }
   }
  },
  {
   "cell_type": "code",
   "execution_count": null,
   "outputs": [],
   "source": [
    "#Program to Demonstrate the Use of Default Parameters\n",
    "\n",
    "def work_area(prompt, domain=\"Data Analytics\"):\n",
    "    print(f\"{prompt} {domain}\")\n",
    "def main():\n",
    "    work_area(\"Sam works in\")\n",
    "    work_area(\"Alice has interest in\", \"Internet of Things\")\n",
    "if __name__ == \"__main__\":\n",
    "    main()"
   ],
   "metadata": {
    "collapsed": false,
    "pycharm": {
     "name": "#%%\n"
    }
   }
  },
  {
   "cell_type": "code",
   "source": [
    "#Program to Demonstrate the Use of Keyword Arguments\n",
    "def parrot(voltage, state='a stiff', action='voom', type='Norwegian Blue'):\n",
    "    print(f\"This parrot wouldn't {action}, if you put {voltage}, volts through it.\")\n",
    "    print(f\"Lovely plumage, the {type}\")\n",
    "    print(f\"It's {state} !!!\")\n",
    "\n",
    "parrot(1000)\n",
    "parrot(voltage=1000)\n",
    "parrot(voltage=1000000, action='VOOOOOM')\n",
    "parrot('a thousand', state='pushing up the daisies')"
   ],
   "metadata": {
    "collapsed": false,
    "pycharm": {
     "name": "#%%\n"
    }
   },
   "execution_count": null,
   "outputs": []
  },
  {
   "cell_type": "markdown",
   "source": [
    "<div style=\"text-align: LEFT\"> <div style=\"color:BLUE\"> <font size=\"13\"> <p><b>Also, the following functional calls are invalid.</b></p></div> </div></font>\n",
    "<div style=\"color:white\"> <font size=\"10\">\n",
    "<ul>\n",
    "  <li>parrot() # required argument missing </li>\n",
    "  <li>parrot(voltage=5.0, 'dead') # non-keyword argument after a keyword argument</li>\n",
    "  <li>parrot(110, voltage=220) # duplicate value for the same argument</li>\n",
    "  <li>parrot(actor='John Cleese') # unknown keyword argument</li>\n",
    " </ul>"
   ],
   "metadata": {
    "collapsed": false,
    "pycharm": {
     "name": "#%% md\n"
    }
   }
  },
  {
   "cell_type": "code",
   "execution_count": null,
   "outputs": [],
   "source": [
    "#NUMBER OF ARGUMENTS IN FUNCTIONS---By default, a function must be called with the correct number of arguments, not more, and not less.\n",
    "\n",
    "def my_function(fname, lname):\n",
    "  print(fname + \" \" + lname)\n",
    "\n",
    "my_function(\"PYTHON\", \"PROGRAMMING\")"
   ],
   "metadata": {
    "collapsed": false,
    "pycharm": {
     "name": "#%%\n"
    }
   }
  },
  {
   "cell_type": "markdown",
   "source": [
    "<div style=\"text-align: center\"> <div style=\"color:yellow\"> <font size=\"13\"> <p><b>*args and **kwargs IN PYTHON </b></p></div> </div></font>\n",
    "<div style=\"color:white\"> <font size=\"12\">\n",
    "<li>In Python, we can pass a variable number of arguments to a function using special symbols. There are two special symbols:</li>\n",
    "</div></font>\n",
    "<div style=\"text-align: center\">\n",
    "<img src=\"PICTURES/DAY2-F15.png\" width=\"400\" height=\"300\" /></div>\n",
    "<ul>\n",
    "<div style=\"text-align: LEFT\"> <div style=\"color:BLUE\"> <font size=\"13\"> <p><b>1.) *args (Non-Keyword Arguments)</b></p></div> </div></font>\n",
    "<div style=\"text-align: LEFT\"> <div style=\"color:BLUE\"> <font size=\"13\"> <p><b>2.) **kwargs (Keyword Arguments)</b></p></div> </div></font>\n",
    "</div></font>\n",
    " </ul>"
   ],
   "metadata": {
    "collapsed": false,
    "pycharm": {
     "name": "#%% md\n"
    }
   }
  },
  {
   "cell_type": "markdown",
   "source": [
    "<ul>\n",
    "<div style=\"text-align: LEFT\"> <div style=\"color:BLUE\"> <font size=\"13\"> <p><b>1.) *args (Non-Keyword Arguments)</b></p></div> </div></font>\n",
    "<div style=\"color:white\"> <font size=\"12\">\n",
    "<li>*args allows you to <strong>take in more arguments than the number of formal arguments that you previously defined.</strong></li>\n",
    "</div></font>\n",
    " </ul>"
   ],
   "metadata": {
    "collapsed": false,
    "pycharm": {
     "name": "#%% md\n"
    }
   }
  },
  {
   "cell_type": "code",
   "execution_count": null,
   "outputs": [],
   "source": [
    "# Python program to illustrate *args for variable number of arguments\n",
    "def myFun(*argv):\n",
    "    for arg in argv: print (arg)\n",
    "\n",
    "myFun('Hello', 'Welcome', 'To', 'THINKING PROGRAMMING')"
   ],
   "metadata": {
    "collapsed": false,
    "pycharm": {
     "name": "#%%\n"
    }
   }
  },
  {
   "cell_type": "code",
   "execution_count": null,
   "outputs": [],
   "source": [
    "# Python program to illustrate *args with first extra argument\n",
    "def myFun(arg1, *argv):\n",
    "    print (\"First argument :\", arg1)\n",
    "    for arg in argv:\n",
    "        print(\"Next argument through *argv :\", arg)\n",
    "\n",
    "\n",
    "myFun('Hello', 'Welcome', 'To', 'THINKING PROGRAMMING')"
   ],
   "metadata": {
    "collapsed": false,
    "pycharm": {
     "name": "#%%\n"
    }
   }
  },
  {
   "cell_type": "markdown",
   "source": [
    "<ul>\n",
    "<div style=\"text-align: LEFT\"> <div style=\"color:BLUE\"> <font size=\"13\"> <p><b>2.) **kwargs (Keyword Arguments)</b></p></div> </div></font>\n",
    "<div style=\"color:white\"> <font size=\"12\">\n",
    "<li>Double star allows us to pass through keyword arguments (and any number of them).</li>\n",
    "<li>One can think of the kwargs as being a dictionary that maps each keyword to the value that we pass alongside it.\n",
    "That is why when we iterate over the kwargs there doesn’t seem to be any order in which they were printed out.</li>\n",
    "</div></font>\n",
    " </ul>"
   ],
   "metadata": {
    "collapsed": false,
    "pycharm": {
     "name": "#%% md\n"
    }
   }
  },
  {
   "cell_type": "code",
   "execution_count": null,
   "outputs": [],
   "source": [
    "# Python program to illustrate *kwargs for variable number of keyword arguments\n",
    "# items() method is used to return the list with all dictionary keys with values.\n",
    "\n",
    "def myFun(**kwargs):\n",
    "    for key, value in kwargs.items():\n",
    "        print (\"%s == %s\" %(key, value))\n",
    "\n",
    "myFun(first ='INTRODUCTION', mid ='TO', last='PYTHON PROGRAMMING')"
   ],
   "metadata": {
    "collapsed": false,
    "pycharm": {
     "name": "#%%\n"
    }
   }
  },
  {
   "cell_type": "code",
   "execution_count": null,
   "outputs": [],
   "source": [
    "# Python program to illustrate **kargs for # variable number of keyword arguments with # one extra argument.\n",
    "\n",
    "def myFun(arg1, **kwargs):\n",
    "    for key, value in kwargs.items(): print (\"%s == %s\" %(key, value))\n",
    "\n",
    "myFun(\"Hi\", first ='INTRODUCTION', mid ='TO', last='PYTHON PROGRAMMING')"
   ],
   "metadata": {
    "collapsed": false,
    "pycharm": {
     "name": "#%%\n"
    }
   }
  },
  {
   "cell_type": "markdown",
   "source": [
    "<div style=\"text-align: center\"> <div style=\"color:yellow\"> <font size=\"13\"> <p><b>STRINGS IN PYTHON </b></p></div> </div></font>\n",
    "<div style=\"color:white\"> <font size=\"10\">\n",
    "<ul>\n",
    "  <li>In Python, Strings are arrays of bytes representing Unicode characters.</li>\n",
    "  <li>However, Python does not have a character data type, a single character is simply a string with a length of 1.</li>\n",
    "  <li>Square brackets can be used to access elements of the string.</li>\n",
    "  </ul>\n",
    "</div></font>\n",
    "<ul>\n",
    "<div style=\"text-align: LEFT\"> <div style=\"color:BLUE\"> <font size=\"13\"> <p><b>Creating a String</b></p></div> </div></font>\n",
    "<div style=\"color:white\"> <font size=\"12\">\n",
    "<li>Strings in Python can be created using single quotes ' ' or double quotes \" \" or even triple quotes ' ' '  ' ' '.</li>\n",
    "</div></font>\n",
    " </ul>"
   ],
   "metadata": {
    "collapsed": false,
    "pycharm": {
     "name": "#%% md\n"
    }
   }
  },
  {
   "cell_type": "code",
   "execution_count": null,
   "outputs": [],
   "source": [
    "# Python Program for Creation of String\n",
    "\n",
    "# Creating a String with single Quotes\n",
    "String1 = 'Welcome to PYTHON World'\n",
    "print(\"String with the use of Single Quotes: \")\n",
    "print(String1)\n",
    "\n",
    "# Creating a String with double Quotes\n",
    "String1 = \"I'm a LEARNER\"\n",
    "print(\"\\nString with the use of Double Quotes: \")\n",
    "print(String1)\n",
    "\n",
    "# Creating a String with triple Quotes\n",
    "String1 = '''Thinking Programming'''\n",
    "print(\"\\nString with the use of Triple Quotes: \")\n",
    "print(String1)\n",
    "\n",
    "# Creating String with triple Quotes allows multiple lines\n",
    "String1 = '''Strings\n",
    "            In\n",
    "            Python'''\n",
    "print(\"\\nCreating a multiline String: \")\n",
    "print(String1)"
   ],
   "metadata": {
    "collapsed": false,
    "pycharm": {
     "name": "#%%\n"
    }
   }
  },
  {
   "cell_type": "markdown",
   "source": [
    "<ul>\n",
    "<div style=\"text-align: LEFT\"> <div style=\"color:BLUE\"> <font size=\"13\"> <p><b>Accessing characters in Python</b></p></div> </div></font>\n",
    "<div style=\"color:white\"> <font size=\"12\">\n",
    "<li>In Python, individual characters of a String can be accessed by using the method of Indexing. </li>\n",
    "<li>Indexing allows negative address references to access characters from the back of the String, e.g. -1 refers to the last character, -2 refers to the second last character, and so on.      </li>\n",
    "<li> While accessing an index out of the range will cause an IndexError.         </li>\n",
    "<li>  Only Integers are allowed to be passed as an index, float or other types that will cause a TypeError.</li>\n",
    "</div></font>\n",
    "<div style=\"text-align: center\">\n",
    "<img src=\"PICTURES/DAY2-F16.png\" width=\"600\" height=\"200\" /></div>\n",
    " </ul>"
   ],
   "metadata": {
    "collapsed": false,
    "pycharm": {
     "name": "#%% md\n"
    }
   }
  },
  {
   "cell_type": "code",
   "execution_count": null,
   "outputs": [],
   "source": [
    "\n",
    "# Python Program to Access characters of String\n",
    "\n",
    "String1 = \"Access Characters of String\"\n",
    "print(\"Initial String: \")\n",
    "print(String1)\n",
    "\n",
    "# Printing First character\n",
    "print(\"\\nFirst character of String is: \")\n",
    "print(String1[0])\n",
    "\n",
    "# Printing Last character\n",
    "print(\"\\nLast character of String is: \")\n",
    "print(String1[-1])"
   ],
   "metadata": {
    "collapsed": false,
    "pycharm": {
     "name": "#%%\n"
    }
   }
  },
  {
   "cell_type": "markdown",
   "source": [
    "<ul>\n",
    "<div style=\"text-align: LEFT\"> <div style=\"color:BLUE\"> <font size=\"13\"> <p><b>String Slicing</b></p></div> </div></font>\n",
    "<div style=\"color:white\"> <font size=\"12\">\n",
    "<li>To access a range of characters in the String, the method of slicing is used.</li>\n",
    "<li>Slicing in a String is done by using a Slicing operator (colon  :).</li>\n",
    "</div></font>\n",
    "<div style=\"text-align: center\">\n",
    "<img src=\"PICTURES/DAY2-F19.png\" width=\"600\" height=\"200\" /></div>\n",
    "</ul>"
   ],
   "metadata": {
    "collapsed": false,
    "pycharm": {
     "name": "#%% md\n"
    }
   }
  },
  {
   "cell_type": "code",
   "execution_count": null,
   "outputs": [],
   "source": [
    "healthy_drink = \"green tea\"\n",
    "healthy_drink[0:3]"
   ],
   "metadata": {
    "collapsed": false,
    "pycharm": {
     "name": "#%%\n"
    }
   }
  },
  {
   "cell_type": "code",
   "execution_count": null,
   "outputs": [],
   "source": [
    "healthy_drink[:5]"
   ],
   "metadata": {
    "collapsed": false,
    "pycharm": {
     "name": "#%%\n"
    }
   }
  },
  {
   "cell_type": "code",
   "execution_count": null,
   "outputs": [],
   "source": [
    "healthy_drink[:]"
   ],
   "metadata": {
    "collapsed": false,
    "pycharm": {
     "name": "#%%\n"
    }
   }
  },
  {
   "cell_type": "code",
   "execution_count": null,
   "outputs": [],
   "source": [
    "healthy_drink[2:2]"
   ],
   "metadata": {
    "collapsed": false,
    "pycharm": {
     "name": "#%%\n"
    }
   }
  },
  {
   "cell_type": "code",
   "execution_count": null,
   "outputs": [],
   "source": [
    "healthy_drink[-3:-1]"
   ],
   "metadata": {
    "collapsed": false,
    "pycharm": {
     "name": "#%%\n"
    }
   }
  },
  {
   "cell_type": "code",
   "execution_count": null,
   "outputs": [],
   "source": [
    "healthy_drink[6:-1]"
   ],
   "metadata": {
    "collapsed": false,
    "pycharm": {
     "name": "#%%\n"
    }
   }
  },
  {
   "cell_type": "code",
   "execution_count": null,
   "outputs": [],
   "source": [
    "newspaper = \"new york times\"\n",
    "newspaper[0:12:4]"
   ],
   "metadata": {
    "collapsed": false,
    "pycharm": {
     "name": "#%%\n"
    }
   }
  },
  {
   "cell_type": "code",
   "execution_count": null,
   "outputs": [],
   "source": [
    "newspaper[::4]"
   ],
   "metadata": {
    "collapsed": false,
    "pycharm": {
     "name": "#%%\n"
    }
   }
  },
  {
   "cell_type": "code",
   "execution_count": null,
   "outputs": [],
   "source": [
    "# Python Program to demonstrate String slicing\n",
    "\n",
    "# Creating a String\n",
    "String1 = \"String Slicing\"\n",
    "print(\"Initial String: \")\n",
    "print(String1)\n",
    "\n",
    "# Printing 3rd to 12th character\n",
    "print(\"\\nSlicing characters from 3-12: [INDEX VALUE FROM 3 TO 11 will be considered]\")\n",
    "print(String1[3:12])\n",
    "\n",
    "# Printing characters between\n",
    "# 3rd and 2nd last character\n",
    "print(\"\\nSlicing characters between \" + \"3rd and 2nd last character: [INDEX VALUE FROM 3 TO -3 will be considered] \")\n",
    "print(String1[3:-2])"
   ],
   "metadata": {
    "collapsed": false,
    "pycharm": {
     "name": "#%%\n"
    }
   }
  },
  {
   "cell_type": "code",
   "execution_count": null,
   "outputs": [],
   "source": [
    "#Accessing string characters in Python\n",
    "str = 'programiz'\n",
    "print('str = ', str)\n",
    "\n",
    "#first character\n",
    "print('str[0] = ', str[0])\n",
    "\n",
    "#last character\n",
    "print('str[-1] = ', str[-1])\n",
    "\n",
    "#slicing 2nd to 5th character\n",
    "print('str[1:5] = ', str[1:5])\n",
    "\n",
    "#slicing 6th to 2nd last character\n",
    "print('str[5:-2] = ', str[5:-2])"
   ],
   "metadata": {
    "collapsed": false,
    "pycharm": {
     "name": "#%%\n"
    }
   }
  },
  {
   "cell_type": "markdown",
   "source": [
    "<ul>\n",
    "<div style=\"text-align: LEFT\"> <div style=\"color:BLUE\"> <font size=\"13\"> <p><b>Strings are IMMUTABLE</b></p></div> </div></font>\n",
    "<div style=\"color:white\"> <font size=\"12\">\n",
    "<li>This means that <strong>elements of a string cannot be changed once they have been assigned</strong> . We can simply reassign different strings to the same name.</li>\n",
    "<li>We cannot delete or remove characters from a string. </li>\n",
    "<li>But deleting the string entirely is possible using the <strong>del</strong> keyword.</li>\n",
    "\n",
    "</div></font>\n",
    "</ul>"
   ],
   "metadata": {
    "collapsed": false,
    "pycharm": {
     "name": "#%% md\n"
    }
   }
  },
  {
   "cell_type": "markdown",
   "source": [
    "<ul>\n",
    "<div style=\"text-align: LEFT\"> <div style=\"color:BLUE\"> <font size=\"13\"> <p><b>Deleting/Updating from a String</b></p></div> </div></font>\n",
    "<div style=\"color:white\"> <font size=\"12\">\n",
    "<li>In Python, Updation or Deletion of characters from a String is not allowed.</li>\n",
    "<li> This will cause an error because item assignment or item deletion from a String is not supported.</li>\n",
    "<li>Although deletion of the entire String is possible with the use of a built-in del keyword.This is because Strings are immutable.</li>\n",
    "</div></font>\n",
    "</ul>"
   ],
   "metadata": {
    "collapsed": false,
    "pycharm": {
     "name": "#%% md\n"
    }
   }
  },
  {
   "cell_type": "code",
   "source": [
    "\n",
    "# Python Program to Update character of a String--------------- Throws an ERROR\n",
    "\n",
    "String1 = \"Hello, I'm a Geek\"\n",
    "print(\"Initial String: \")\n",
    "print(String1)\n",
    "\n",
    "# Updating a character of the String--------------- Throws an ERROR\n",
    "String1[2] = 'p'\n",
    "print(\"\\nUpdating character at 2nd Index: \")\n",
    "print(String1)"
   ],
   "metadata": {
    "collapsed": false,
    "pycharm": {
     "name": "#%%\n"
    }
   },
   "execution_count": null,
   "outputs": []
  },
  {
   "cell_type": "markdown",
   "source": [],
   "metadata": {
    "collapsed": false,
    "pycharm": {
     "name": "#%% md\n"
    }
   }
  },
  {
   "cell_type": "code",
   "execution_count": null,
   "outputs": [],
   "source": [
    "# Python Program to Update entire String\n",
    "\n",
    "String1 = \"Update entire String\"\n",
    "print(\"Initial String: \")\n",
    "print(String1)\n",
    "\n",
    "# Updating a String\n",
    "String1 = \"STRINGS IN PYTHON\"\n",
    "print(\"\\nUpdated String: \")\n",
    "print(String1)"
   ],
   "metadata": {
    "collapsed": false,
    "pycharm": {
     "name": "#%%\n"
    }
   }
  },
  {
   "cell_type": "code",
   "execution_count": null,
   "outputs": [],
   "source": [
    "# Python Program to Delete characters from a String--------------- Throws an ERROR\n",
    "\n",
    "String1 = \"Delete characters from a String\"\n",
    "print(\"Initial String: \")\n",
    "print(String1)\n",
    "\n",
    "# Deleting a character of the String--------------- Throws an ERROR\n",
    "del String1[2]\n",
    "print(\"\\nDeleting character at 2nd Index: \")\n",
    "print(String1)"
   ],
   "metadata": {
    "collapsed": false,
    "pycharm": {
     "name": "#%%\n"
    }
   }
  },
  {
   "cell_type": "code",
   "execution_count": null,
   "outputs": [],
   "source": [
    "# Python Program to Delete entire String\n",
    "\n",
    "String1 = \"Delete entire String\"\n",
    "print(\"Initial String: \")\n",
    "print(String1)\n",
    "\n",
    "# Deleting a String with the use of del\n",
    "del String1\n",
    "print(\"\\nDeleting entire String: \")\n",
    "print(String1)           #--------------- Throws an ERROR--- SINCE THE STRING GOT DELETED"
   ],
   "metadata": {
    "collapsed": false,
    "pycharm": {
     "name": "#%%\n"
    }
   }
  },
  {
   "cell_type": "markdown",
   "source": [
    "<ul>\n",
    "<div style=\"text-align: LEFT\"> <div style=\"color:BLUE\"> <font size=\"13\"> <p><b>Escape Sequencing in Python</b></p></div> </div></font>\n",
    "<div style=\"color:white\"> <font size=\"12\">\n",
    "<li>While printing Strings with single and double quotes in it causes SyntaxError because String already contains Single and Double Quotes and hence cannot be printed with the use of either of these.</li>\n",
    "<li>Example1:------<strong>String1 = '''I'm a \"LEARNER\"'''</strong></li>\n",
    "<li>Example2:------<strong>String2 = \"I'm a \"LEARNER\"\"</strong></li>\n",
    "\n",
    "<li>Hence, to print such a String either <strong>Triple Quotes</strong> are used or <strong>Escape sequences</strong> are used to print such Strings. </li>\n",
    "<li>Escape sequences start with a <strong>backslash</strong> and can be interpreted differently.</li>\n",
    "<li>If single quotes are used to represent a string, then all the single quotes present in the string must be escaped and same is done for Double Quotes.</li>\n",
    "</div></font>\n",
    "</ul>"
   ],
   "metadata": {
    "collapsed": false,
    "pycharm": {
     "name": "#%% md\n"
    }
   }
  },
  {
   "cell_type": "code",
   "execution_count": null,
   "outputs": [],
   "source": [
    "# Python Program for Escape Sequencing of String\n",
    "\n",
    "# Initial String\n",
    "String1 = '''I'm a \"LEARNER\"'''\n",
    "print(\"Initial String with use of Triple Quotes: \")\n",
    "print(String1)\n",
    "\n",
    "# Escaping Single Quote\n",
    "String1 = 'I\\'m a \"LEARNER\"'\n",
    "print(\"\\nEscaping Single Quote: \")\n",
    "print(String1)\n",
    "\n",
    "# Escaping Double Quotes\n",
    "String1 = \"I'm a \\\"LEARNER\\\"\"\n",
    "print(\"\\nEscaping Double Quotes: \")\n",
    "print(String1)\n",
    "\n",
    "# Printing Paths with the\n",
    "# use of Escape Sequences\n",
    "String1 = \"C:\\\\Python\\\\LEARNER\\\\\"\n",
    "print(\"\\nEscaping Backslashes: \")\n",
    "print(String1)"
   ],
   "metadata": {
    "collapsed": false,
    "pycharm": {
     "name": "#%%\n"
    }
   }
  },
  {
   "cell_type": "markdown",
   "source": [
    "<ul>\n",
    "<div style=\"text-align: LEFT\"> <div style=\"color:BLUE\"> <font size=\"13\"> <p><b>Formatting of Strings</b></p></div> </div></font>\n",
    "<div style=\"color:white\"> <font size=\"12\">\n",
    "<li>Strings in Python can be formatted with the use of format() method which is a very versatile and powerful tool for formatting Strings.</li>\n",
    "<li>Format method in String contains curly braces {} as placeholders which can hold arguments according to position or keyword to specify the order.</li>\n",
    "</div></font>\n",
    "</ul>"
   ],
   "metadata": {
    "collapsed": false,
    "pycharm": {
     "name": "#%% md\n"
    }
   }
  },
  {
   "cell_type": "code",
   "execution_count": null,
   "outputs": [],
   "source": [
    "# Python Program for Formatting of Strings\n",
    "\n",
    "# Default order\n",
    "String1 = \"{} {} {}\".format('Formatting', 'of', 'Strings')\n",
    "print(\"Print String in default order: \")\n",
    "print(String1)\n",
    "\n",
    "# Positional Formatting\n",
    "String1 = \"{1} {0} {2}\".format('Formatting', 'of', 'Strings')\n",
    "print(\"\\nPrint String in Positional order: \")\n",
    "print(String1)\n",
    "\n",
    "# Keyword Formatting\n",
    "String1 = \"{f} {o} {s}\".format(f='Formatting', o='of', s='Strings')\n",
    "print(\"\\nPrint String in order of Keywords: \")\n",
    "print(String1)"
   ],
   "metadata": {
    "collapsed": false,
    "pycharm": {
     "name": "#%%\n"
    }
   }
  },
  {
   "cell_type": "markdown",
   "source": [
    "<ul>\n",
    "<div style=\"color:white\"> <font size=\"12\">\n",
    "<li>Integers such as Binary, hexadecimal, etc., and floats can be rounded or displayed in the exponent form with the use of format specifiers.</li>\n",
    "</div></font>\n",
    "</ul>"
   ],
   "metadata": {
    "collapsed": false,
    "pycharm": {
     "name": "#%% md\n"
    }
   }
  },
  {
   "cell_type": "code",
   "execution_count": null,
   "outputs": [],
   "source": [
    "# Formatting of Integers\n",
    "String1 = \"{0:b}\".format(16)\n",
    "print(\"\\nBinary representation of 16 is \")\n",
    "print(String1)\n",
    "\n",
    "# Formatting of Floats\n",
    "String1 = \"{0:e}\".format(165.6458)\n",
    "print(\"\\nExponent representation of 165.6458 is \")\n",
    "print(String1)\n",
    "\n",
    "# Rounding off Integers\n",
    "String1 = \"{0:.2f}\".format(1/6)\n",
    "print(\"\\none-sixth is : \")\n",
    "print(String1)"
   ],
   "metadata": {
    "collapsed": false,
    "pycharm": {
     "name": "#%%\n"
    }
   }
  },
  {
   "cell_type": "markdown",
   "source": [
    "<ul>\n",
    "<div style=\"color:white\"> <font size=\"12\">\n",
    "<li>A string can be left() or center(^) justified with the use of format specifiers, separated by a colon(:).  </li>\n",
    "</div></font>\n",
    "</ul>"
   ],
   "metadata": {
    "collapsed": false,
    "pycharm": {
     "name": "#%% md\n"
    }
   }
  },
  {
   "cell_type": "code",
   "execution_count": null,
   "outputs": [],
   "source": [
    "# String alignment\n",
    "String1 = \"|{:<10}|{:^10}|{:>10}|\".format('Python', 'String', 'Alignment')\n",
    "print(\"\\nLeft, center and right alignment with Formatting: \")\n",
    "print(String1)\n",
    "\n",
    "# To demonstrate aligning of spaces\n",
    "String1 = \"\\n{0:^16} was founded in {1:<4}!\".format(\"PYTHON STRINGS\", 2021)\n",
    "print(String1)"
   ],
   "metadata": {
    "collapsed": false,
    "pycharm": {
     "name": "#%%\n"
    }
   }
  },
  {
   "cell_type": "markdown",
   "source": [
    "<ul>\n",
    "<div style=\"color:white\"> <font size=\"12\">\n",
    "<li>Old style formatting was done without the use of format method by <strong>using      % operator</strong>.</li>\n",
    "</div></font>\n",
    "</ul>"
   ],
   "metadata": {
    "collapsed": false,
    "pycharm": {
     "name": "#%% md\n"
    }
   }
  },
  {
   "cell_type": "code",
   "execution_count": null,
   "outputs": [],
   "source": [
    "# Python Program for # Old Style Formatting of Integers\n",
    "\n",
    "Integer1 = 12.3456789\n",
    "print(\"Formatting in 3.2f format: \")\n",
    "print('The value of Integer1 is %3.2f' % Integer1)\n",
    "print(\"\\nFormatting in 3.4f format: \")\n",
    "print('The value of Integer1 is %3.4f' % Integer1)"
   ],
   "metadata": {
    "collapsed": false,
    "pycharm": {
     "name": "#%%\n"
    }
   }
  },
  {
   "cell_type": "markdown",
   "source": [
    "<ul>\n",
    "<div style=\"color:white\"> <font size=\"12\">\n",
    "<li>Python provides many functions that are built into the interpreter and always available. </li>\n",
    "</div></font>\n",
    "<div style=\"text-align: center\">\n",
    "<img src=\"PICTURES/DAY2-F17.png\" width=\"700\" height=\"400\" /></div>\n",
    "</ul>"
   ],
   "metadata": {
    "collapsed": false,
    "pycharm": {
     "name": "#%% md\n"
    }
   }
  },
  {
   "cell_type": "code",
   "execution_count": null,
   "outputs": [],
   "source": [
    "#CONVERTING CHARACTER TO AN INTEGER\n",
    "ord('a')\n"
   ],
   "metadata": {
    "collapsed": false,
    "pycharm": {
     "name": "#%%\n"
    }
   }
  },
  {
   "cell_type": "code",
   "execution_count": null,
   "outputs": [],
   "source": [
    "#CONVERTING CHARACTER TO AN INTEGER\n",
    "ord(' ')"
   ],
   "metadata": {
    "collapsed": false,
    "pycharm": {
     "name": "#%%\n"
    }
   }
  },
  {
   "cell_type": "code",
   "execution_count": null,
   "outputs": [],
   "source": [
    "#CONVERTING AN INTEGER TO CHARACTER\n",
    "chr(97)"
   ],
   "metadata": {
    "collapsed": false,
    "pycharm": {
     "name": "#%%\n"
    }
   }
  },
  {
   "cell_type": "code",
   "execution_count": null,
   "outputs": [],
   "source": [
    "#CONVERTING AN INTEGER TO CHARACTER\n",
    "chr(65)"
   ],
   "metadata": {
    "collapsed": false,
    "pycharm": {
     "name": "#%%\n"
    }
   }
  },
  {
   "cell_type": "code",
   "execution_count": null,
   "outputs": [],
   "source": [
    "#FINDING THE LENGTH OF A STRING\n",
    "s = 'BUILT-IN FUNCTIONS IN STRINGS'\n",
    "len(s)"
   ],
   "metadata": {
    "collapsed": false,
    "pycharm": {
     "name": "#%%\n"
    }
   }
  },
  {
   "cell_type": "code",
   "execution_count": null,
   "outputs": [],
   "source": [
    "#Write Python Code to Determine Whether the Given String Is a Palindrome or Not Using Slicing\n",
    "def main():\n",
    "    user_string = input(\"Enter string: \")\n",
    "    if user_string == user_string[::-1]:\n",
    "        print(f\"User entered string {user_string} is palindrome\")\n",
    "    else:\n",
    "        print(f\"User entered string {user_string} is not a palindrome\")\n",
    "if __name__ == \"__main__\":\n",
    "    main()"
   ],
   "metadata": {
    "collapsed": false,
    "pycharm": {
     "name": "#%%\n"
    }
   }
  },
  {
   "cell_type": "markdown",
   "source": [
    "<ul>\n",
    "<div style=\"text-align: LEFT\"> <div style=\"color:BLUE\"> <font size=\"13\"> <p><b>The str() Function</b></p></div> </div></font>\n",
    "<div style=\"color:white\"> <font size=\"12\">\n",
    "<li>SYNTAX: <strong>str(object)</strong></li>\n",
    "<li>It returns a string version of the object. If the object is not provided, then it returns an empty string</li>\n",
    "</div></font>\n",
    "</ul>"
   ],
   "metadata": {
    "collapsed": false,
    "pycharm": {
     "name": "#%% md\n"
    }
   }
  },
  {
   "cell_type": "code",
   "execution_count": null,
   "outputs": [],
   "source": [
    "result = str(10)\n",
    "print(result)"
   ],
   "metadata": {
    "collapsed": false,
    "pycharm": {
     "name": "#%%\n"
    }
   }
  },
  {
   "cell_type": "markdown",
   "source": [
    "<ul>\n",
    "<div style=\"text-align: LEFT\"> <div style=\"color:BLUE\"> <font size=\"13\"> <p><b>Basic String Operations</b></p></div> </div></font>\n",
    "<div style=\"color:white\"> <font size=\"12\">\n",
    "<li>In Python, strings can also be concatenated using + sign and * operator is used to create a repeated sequence of strings.</li>\n",
    "<li>Python cannot concatenate string value with integer value since they are of different data types. You need to convert integer type to string type before concatenating integer and string values.</li>\n",
    "</div></font>\n",
    "</ul>"
   ],
   "metadata": {
    "collapsed": false,
    "pycharm": {
     "name": "#%% md\n"
    }
   }
  },
  {
   "cell_type": "code",
   "execution_count": null,
   "outputs": [],
   "source": [
    "string_1 = \"face\"\n",
    "string_2 = \"book\"\n",
    "concatenated_string = string_1 + string_2\n",
    "concatenated_string"
   ],
   "metadata": {
    "collapsed": false,
    "pycharm": {
     "name": "#%%\n"
    }
   }
  },
  {
   "cell_type": "code",
   "execution_count": null,
   "outputs": [],
   "source": [
    "repetition_of_string = \"wow\" * 5\n",
    "repetition_of_string"
   ],
   "metadata": {
    "collapsed": false,
    "pycharm": {
     "name": "#%%\n"
    }
   }
  },
  {
   "cell_type": "markdown",
   "source": [
    "<ul>\n",
    "<div style=\"text-align: LEFT\"> <div style=\"color:BLUE\"> <font size=\"13\"> <p><b>check for the presence of a string in another string </b></p></div> </div></font>\n",
    "<div style=\"color:white\"> <font size=\"12\">\n",
    "<li>using <strong>in</strong> and <strong>not in</strong> membership operators.</li>\n",
    "<li> It returns either a Boolean True or False.</li>\n",
    "<li>The in operator evaluates to True if the string value in the left operand <strong>appears</strong> in the sequence of characters of string value in right operand. </li>\n",
    "<li>The not in operator evaluates to True if the string value in the left operand <strong>does not appear</strong> in the sequence of characters of string value in right operand. </li>\n",
    "</div></font>\n",
    "</ul>"
   ],
   "metadata": {
    "collapsed": false,
    "pycharm": {
     "name": "#%% md\n"
    }
   }
  },
  {
   "cell_type": "code",
   "execution_count": null,
   "outputs": [],
   "source": [
    "fruit_string = \"apple is a fruit\"\n",
    "fruit_sub_string = \"apple\"\n",
    "fruit_sub_string in fruit_string"
   ],
   "metadata": {
    "collapsed": false,
    "pycharm": {
     "name": "#%%\n"
    }
   }
  },
  {
   "cell_type": "code",
   "execution_count": null,
   "outputs": [],
   "source": [
    "another_fruit_string = \"orange\"\n",
    "another_fruit_string not in fruit_string"
   ],
   "metadata": {
    "collapsed": false,
    "pycharm": {
     "name": "#%%\n"
    }
   }
  },
  {
   "cell_type": "markdown",
   "source": [
    "<ul>\n",
    "<div style=\"text-align: LEFT\"> <div style=\"color:BLUE\"> <font size=\"13\"> <p><b>String Comparison</b></p></div> </div></font>\n",
    "<div style=\"color:white\"> <font size=\"12\">\n",
    "<li>You can use\n",
    " <div style=\"text-align: center\">\n",
    "<img src=\"PICTURES/DAY2-F18.png\" width=\"500\" height=\"100\" /></div>\n",
    "to compare two strings resulting in either Boolean True or False value. </li>\n",
    "<li>Python compares strings using ASCII value of the characters.</li>\n",
    "</div></font>\n",
    "</ul>"
   ],
   "metadata": {
    "collapsed": false,
    "pycharm": {
     "name": "#%% md\n"
    }
   }
  },
  {
   "cell_type": "code",
   "execution_count": null,
   "outputs": [],
   "source": [
    "\"january\" == \"jane\""
   ],
   "metadata": {
    "collapsed": false,
    "pycharm": {
     "name": "#%%\n"
    }
   }
  },
  {
   "cell_type": "code",
   "execution_count": null,
   "outputs": [],
   "source": [
    "\"january\" != \"jane\""
   ],
   "metadata": {
    "collapsed": false,
    "pycharm": {
     "name": "#%%\n"
    }
   }
  },
  {
   "cell_type": "code",
   "execution_count": null,
   "outputs": [],
   "source": [
    "\"january\" < \"jane\""
   ],
   "metadata": {
    "collapsed": false,
    "pycharm": {
     "name": "#%%\n"
    }
   }
  },
  {
   "cell_type": "code",
   "execution_count": null,
   "outputs": [],
   "source": [
    "\"january\" > \"jane\""
   ],
   "metadata": {
    "collapsed": false,
    "pycharm": {
     "name": "#%%\n"
    }
   }
  },
  {
   "cell_type": "code",
   "execution_count": null,
   "outputs": [],
   "source": [
    "\"january\" <= \"jane\""
   ],
   "metadata": {
    "collapsed": false,
    "pycharm": {
     "name": "#%%\n"
    }
   }
  },
  {
   "cell_type": "code",
   "execution_count": null,
   "outputs": [],
   "source": [
    "\"january\" >= \"jane\""
   ],
   "metadata": {
    "collapsed": false,
    "pycharm": {
     "name": "#%%\n"
    }
   }
  },
  {
   "cell_type": "markdown",
   "source": [
    "<ul>\n",
    "<div style=\"text-align: LEFT\"> <div style=\"color:BLUE\"> <font size=\"13\"> <p><b>Joining Strings Using join() Method</b></p></div> </div></font>\n",
    "<div style=\"color:white\"> <font size=\"12\">\n",
    "<li>The join() method provides a flexible way to concatenate strings</li>\n",
    "<li>SYNTAX:      <strong>string_name.join(sequence)</strong></li>\n",
    "</div></font>\n",
    "</ul>"
   ],
   "metadata": {
    "collapsed": false,
    "pycharm": {
     "name": "#%% md\n"
    }
   }
  },
  {
   "cell_type": "code",
   "execution_count": null,
   "outputs": [],
   "source": [
    "numbers = \"123\"\n",
    "characters = \"amy\"\n",
    "password = numbers.join(characters)\n",
    "password"
   ],
   "metadata": {
    "collapsed": false,
    "pycharm": {
     "name": "#%%\n"
    }
   }
  },
  {
   "cell_type": "markdown",
   "source": [
    "<ul>\n",
    "<div style=\"text-align: LEFT\"> <div style=\"color:BLUE\"> <font size=\"13\"> <p><b>Split Strings Using split() Method</b></p></div> </div></font>\n",
    "<div style=\"color:white\"> <font size=\"12\">\n",
    "<li>The split() method returns a list of string items by breaking up the string using the delimiter string. </li>\n",
    "<li>SYNTAX:      <strong>string_name.split(separator,maxsplit)</strong></li>\n",
    "</div></font>\n",
    "</ul>"
   ],
   "metadata": {
    "collapsed": false,
    "pycharm": {
     "name": "#%% md\n"
    }
   }
  },
  {
   "cell_type": "code",
   "execution_count": null,
   "outputs": [],
   "source": [
    "inventors = \"edison, tesla, marconi, newton\"\n",
    "inventors.split(\",\" )                                 #OUTPUT : ['edison', ' tesla', ' marconi', ' newton']"
   ],
   "metadata": {
    "collapsed": false,
    "pycharm": {
     "name": "#%%\n"
    }
   }
  },
  {
   "cell_type": "code",
   "execution_count": null,
   "outputs": [],
   "source": [
    "watches = \"rolex hublot cartier omega\"\n",
    "watches.split()                                       #OUTPUT : ['rolex', 'hublot', 'cartier', 'omega']"
   ],
   "metadata": {
    "collapsed": false,
    "pycharm": {
     "name": "#%%\n"
    }
   }
  },
  {
   "cell_type": "code",
   "execution_count": null,
   "outputs": [],
   "source": [
    "txt = \"apple#banana#cherry#orange\"\n",
    "# setting the maxsplit parameter to 1, will return a list with 2 elements!\n",
    "x = txt.split(\"#\", 1)\n",
    "print(x)"
   ],
   "metadata": {
    "collapsed": false,
    "pycharm": {
     "name": "#%%\n"
    }
   }
  },
  {
   "cell_type": "code",
   "execution_count": null,
   "outputs": [],
   "source": [
    "#Program to Demonstrate String Traversing Using the for Loop\n",
    "def main():\n",
    "    alphabet = \"google\"\n",
    "    index = 0\n",
    "    print(f\"In the string '{alphabet}'\")\n",
    "    for each_character in alphabet:\n",
    "        print(f\"Character '{each_character}' has an index value of {index}\")\n",
    "        index += 1\n",
    "if __name__ == \"__main__\":\n",
    "    main()"
   ],
   "metadata": {
    "collapsed": false,
    "pycharm": {
     "name": "#%%\n"
    }
   }
  },
  {
   "cell_type": "code",
   "execution_count": null,
   "outputs": [],
   "source": [
    "#Write Python Program to Count the Total Number of Vowels,Consonants and Blanks in a String\n",
    "def main():\n",
    "    user_string = input(\"Enter a string: \")\n",
    "    vowels = 0\n",
    "    consonants = 0\n",
    "    blanks = 0\n",
    "    for each_character in user_string:\n",
    "        if(each_character == 'a' or each_character == 'e' or each_character == 'i' or each_character == 'o' or each_character == 'u'):\n",
    "            vowels += 1\n",
    "        elif \"a\" < each_character < \"z\":\n",
    "            consonants += 1\n",
    "        elif each_character == \" \":\n",
    "            blanks += 1\n",
    "    print(f\"Total number of Vowels in user entered string is {vowels}\")\n",
    "    print(f\"Total number of Consonants in user entered string is {consonants}\")\n",
    "    print(f\"Total number of Blanks in user entered string is {blanks}\")\n",
    "if __name__ == \"__main__\":\n",
    "    main()"
   ],
   "metadata": {
    "collapsed": false,
    "pycharm": {
     "name": "#%%\n"
    }
   }
  },
  {
   "cell_type": "code",
   "execution_count": null,
   "outputs": [],
   "source": [
    "#Write Python Program to Calculate the Length of a String Without Using Built-In len() Function\n",
    "def main():\n",
    "    user_string = input(\"Enter a string: \")\n",
    "    count_character = 0\n",
    "    for each_character in user_string:\n",
    "        count_character += 1\n",
    "    print(f\"The length of user entered string: {user_string} is {count_character} \")\n",
    "if __name__ == \"__main__\":\n",
    "    main()"
   ],
   "metadata": {
    "collapsed": false,
    "pycharm": {
     "name": "#%%\n"
    }
   }
  },
  {
   "cell_type": "markdown",
   "source": [
    "<div style=\"text-align: center\"> <div style=\"color:yellow\"> <font size=\"13\"> <p><b>LISTS IN PYTHON </b></p></div> </div></font>\n",
    "<div style=\"color:white\"> <font size=\"10\">\n",
    "<ul>\n",
    "  <li>Lists are used to store <strong>multiple items</strong> in a single variable.</li>\n",
    "  <li>Lists are one of 4 <strong>built-in data types</strong> in Python used to store collections of data, the other 3 are Tuple, Set, and Dictionary, all with different qualities and usage.</li>\n",
    "  <li>A list can have any number of items and they may be of <strong>different types (integer, float, string, etc.).</strong></li>\n",
    "  <li>Lists are created using <strong>square brackets</strong>.</li>\n",
    "  <li>Lists are <strong>mutable</strong> means, any data item of a List can be replaced by any other data item.  </li>\n",
    "  <li> For example:\n",
    "  <ul>\n",
    "<li><strong>list1 = ['physics', 'chemistry', 1997, 2000];</li>\n",
    "<li><strong>list2 = [1, 2, 3, 4, 5];</li>\n",
    "<li><strong>list3 = [\"a\", \"b\", \"c\", \"d\"]<strong></li>\n",
    " </li>\n",
    " </ul>\n",
    "  </ul>"
   ],
   "metadata": {
    "collapsed": false,
    "pycharm": {
     "name": "#%% md\n"
    }
   }
  },
  {
   "cell_type": "markdown",
   "source": [
    "<ul>\n",
    "<div style=\"text-align: LEFT\"> <div style=\"color:BLUE\"> <font size=\"13\"> <p><b>Creating a List</b></p></div> </div></font>\n",
    "<div style=\"color:white\"> <font size=\"12\">\n",
    "<li>Lists in Python can be created by just placing the sequence inside the square brackets[ ]. </li>\n",
    "<li>A list doesn’t need a built-in function for the creation of a list. </li>\n",
    "</div></font>\n",
    "</ul>"
   ],
   "metadata": {
    "collapsed": false,
    "pycharm": {
     "name": "#%% md\n"
    }
   }
  },
  {
   "cell_type": "code",
   "execution_count": null,
   "outputs": [],
   "source": [
    "\n",
    "# Python program to demonstrate Creation of List\n",
    "\n",
    "# Creating a List\n",
    "List = []\n",
    "print(\"Blank List: \")\n",
    "print(List)\n",
    "\n",
    "# Creating a List of numbers\n",
    "List = [10, 20, 14]\n",
    "print(\"\\nList of numbers: \")\n",
    "print(List)\n",
    "\n",
    "# list with mixed data types\n",
    "List = [1, \"Hello\", 3.4]\n",
    "print(\"\\nList of mixed data types\")\n",
    "print(List)\n",
    "\n",
    "# Creating a List of strings and accessing using index\n",
    "List = [\"Creation\", \"of\", \"List\"]\n",
    "print(\"\\nList Items: \")\n",
    "print(List[0])\n",
    "print(List[2])\n",
    "\n",
    "# Creating a Multi-Dimensional List (By Nesting a list inside a List)\n",
    "List = [['Creation', 'of'] , ['List']]\n",
    "print(\"\\nMulti-Dimensional List OR Nested List: \")\n",
    "print(List)"
   ],
   "metadata": {
    "collapsed": false,
    "pycharm": {
     "name": "#%%\n"
    }
   }
  },
  {
   "cell_type": "markdown",
   "source": [
    "<ul>\n",
    "<div style=\"text-align: LEFT\"> <div style=\"color:BLUE\"> <font size=\"13\"> <p><b>Access List Elements</b></p></div> </div></font>\n",
    "<div style=\"color:white\"> <font size=\"12\">\n",
    "<li>Elements of a list can be accessed using INDEXING </li>\n",
    "<div style=\"text-align: center\">\n",
    "<img src=\"PICTURES/DAY2-F20.png\" width=\"500\" height=\"200\" /></div>\n",
    "</div></font>\n",
    "</ul>"
   ],
   "metadata": {
    "collapsed": false,
    "pycharm": {
     "name": "#%% md\n"
    }
   }
  },
  {
   "cell_type": "code",
   "execution_count": null,
   "outputs": [],
   "source": [
    "my_list = ['p', 'r', 'o', 'b', 'e']\n",
    "\n",
    "# first item\n",
    "print(my_list[0])  # p\n",
    "\n",
    "# third item\n",
    "print(my_list[2])  # o\n",
    "\n",
    "# fifth item\n",
    "print(my_list[4])  # e\n",
    "\n",
    "# Nested List\n",
    "n_list = [\"Happy\", [2, 0, 1, 5]]\n",
    "\n",
    "# Nested indexing\n",
    "print(n_list[0][1])\n",
    "\n",
    "print(n_list[1][3])\n",
    "\n",
    "# Error! Only integer can be used for indexing\n",
    "print(my_list[4.0])"
   ],
   "metadata": {
    "collapsed": false,
    "pycharm": {
     "name": "#%%\n"
    }
   }
  },
  {
   "cell_type": "code",
   "execution_count": null,
   "outputs": [],
   "source": [
    "# Negative indexing in lists\n",
    "my_list = ['p','r','o','b','e']\n",
    "\n",
    "# last item\n",
    "print(my_list[-1])\n",
    "\n",
    "# fifth last item\n",
    "print(my_list[-5])"
   ],
   "metadata": {
    "collapsed": false,
    "pycharm": {
     "name": "#%%\n"
    }
   }
  },
  {
   "cell_type": "markdown",
   "source": [
    "<ul>\n",
    "<div style=\"text-align: LEFT\"> <div style=\"color:BLUE\"> <font size=\"13\"> <p><b>List Slicing</b></p></div> </div></font>\n",
    "<div style=\"color:white\"> <font size=\"12\">\n",
    "<li>We can access a range of items in a list by using the slicing operator :.</li>\n",
    "</div></font>\n",
    "</ul>"
   ],
   "metadata": {
    "collapsed": false,
    "pycharm": {
     "name": "#%% md\n"
    }
   }
  },
  {
   "cell_type": "code",
   "execution_count": null,
   "outputs": [],
   "source": [
    "# List slicing in Python\n",
    "\n",
    "my_list = ['p','r','o','g','r','a','m','i','z']\n",
    "\n",
    "# elements from index 2 to index 4\n",
    "print(my_list[2:5])\n",
    "\n",
    "# elements from index 5 to end\n",
    "print(my_list[5:])\n",
    "\n",
    "# elements beginning to end\n",
    "print(my_list[:])"
   ],
   "metadata": {
    "collapsed": false,
    "pycharm": {
     "name": "#%%\n"
    }
   }
  },
  {
   "cell_type": "markdown",
   "source": [
    "<ul>\n",
    "<div style=\"text-align: LEFT\"> <div style=\"color:BLUE\"> <font size=\"13\"> <p><b>List Slicing</b></p></div> </div></font>\n",
    "<div style=\"color:white\"> <font size=\"12\">\n",
    "<li>Lists are mutable, meaning their elements can be changed.\n",
    "\n",
    "We can use the assignment operator = to change an item or a range of items.</li>\n",
    "</div></font>\n",
    "</ul>"
   ],
   "metadata": {
    "collapsed": false,
    "pycharm": {
     "name": "#%% md\n"
    }
   }
  },
  {
   "cell_type": "code",
   "execution_count": null,
   "outputs": [],
   "source": [
    "# Correcting mistake values in a list\n",
    "odd = [2, 4, 6, 8]\n",
    "\n",
    "# change the 1st item\n",
    "odd[0] = 1\n",
    "\n",
    "print(odd)\n",
    "\n",
    "# change 2nd to 4th items\n",
    "odd[1:4] = [3, 5, 7]\n",
    "\n",
    "print(odd)"
   ],
   "metadata": {
    "collapsed": false,
    "pycharm": {
     "name": "#%%\n"
    }
   }
  },
  {
   "cell_type": "markdown",
   "source": [
    "<ul>\n",
    "<div style=\"text-align: LEFT\"> <div style=\"color:BLUE\"> <font size=\"13\"> <p><b>Appending and Extending lists</b></p></div> </div></font>\n",
    "<div style=\"color:white\"> <font size=\"12\">\n",
    "<li>We can add one item to a list using the <strong>append( )</strong> method or add several items using the <strong>extend( )</strong> method.</li>\n",
    "</div></font>\n",
    "</ul>"
   ],
   "metadata": {
    "collapsed": false,
    "pycharm": {
     "name": "#%% md\n"
    }
   }
  },
  {
   "cell_type": "code",
   "execution_count": null,
   "outputs": [],
   "source": [
    "# Appending and Extending lists in Python\n",
    "odd = [1, 3, 5]\n",
    "\n",
    "odd.append(7)\n",
    "\n",
    "print(odd)\n",
    "\n",
    "odd.extend([9, 11, 13])\n",
    "\n",
    "print(odd)"
   ],
   "metadata": {
    "collapsed": false,
    "pycharm": {
     "name": "#%%\n"
    }
   }
  },
  {
   "cell_type": "markdown",
   "source": [
    "<ul>\n",
    "<div style=\"text-align: LEFT\"> <div style=\"color:BLUE\"> <font size=\"13\"> <p><b>Nested Lists in Python</b></p></div> </div></font>\n",
    "<div style=\"color:white\"> <font size=\"12\">\n",
    "<li>A nested list is a list of lists, or any list that has another list as an element (a sublist). </li>\n",
    "<div style=\"text-align: center\">\n",
    "<img src=\"PICTURES/DAY2-L1.png\" width=\"600\" height=\"350\"/>\n",
    "<div style=\"color:white\"> <font size=\"12\">\n",
    "<li> They can be helpful if you want to create a matrix or need to store a sublist along with other data types.     </li>\n",
    "\n",
    "</div></font>\n",
    "</ul>"
   ],
   "metadata": {
    "collapsed": false,
    "pycharm": {
     "name": "#%% md\n"
    }
   }
  },
  {
   "cell_type": "markdown",
   "source": [
    "<ul>\n",
    "<div style=\"text-align: LEFT\"> <div style=\"color:BLUE\"> <font size=\"13\"> <p><b>Creating Nested Lists</b></p></div> </div></font>\n",
    "<div style=\"color:white\"> <font size=\"12\">\n",
    "<li>nestedList = [1, 2, ['a', 1], 3]</li>\n",
    "<li>L = ['a', ['bb', ['ccc', 'ddd'], 'ee', 'ff'], 'g', 'h']</li>\n",
    "</div></font>\n",
    "</ul>"
   ],
   "metadata": {
    "collapsed": false,
    "pycharm": {
     "name": "#%% md\n"
    }
   }
  },
  {
   "cell_type": "code",
   "execution_count": 1,
   "outputs": [
    {
     "name": "stdout",
     "output_type": "stream",
     "text": [
      "List inside the nested list:  ['a', 1]\n",
      "First element of the sublist:  a\n"
     ]
    }
   ],
   "source": [
    "# creating list\n",
    "nestedList = [1, 2, ['a', 1], 3]\n",
    "\n",
    "# indexing list: the sublist has now been accessed\n",
    "subList = nestedList[2]\n",
    "\n",
    "# access the first element inside the inner list:\n",
    "element = nestedList[2][0]\n",
    "\n",
    "print(\"List inside the nested list: \", subList)\n",
    "print(\"First element of the sublist: \", element)"
   ],
   "metadata": {
    "collapsed": false,
    "pycharm": {
     "name": "#%%\n"
    }
   }
  },
  {
   "cell_type": "code",
   "execution_count": 23,
   "outputs": [
    {
     "name": "stdout",
     "output_type": "stream",
     "text": [
      "['cc', 'dd', ['eee', 'fff']]\n",
      "['eee', 'fff']\n",
      "eee\n"
     ]
    }
   ],
   "source": [
    "L = ['a', 'b', ['cc', 'dd', ['eee', 'fff']], 'g', 'h']\n",
    "\n",
    "print(L[2])\n",
    "# Prints ['cc', 'dd', ['eee', 'fff']]\n",
    "\n",
    "print(L[2][2])\n",
    "# Prints ['eee', 'fff']\n",
    "\n",
    "print(L[2][2][0])"
   ],
   "metadata": {
    "collapsed": false,
    "pycharm": {
     "name": "#%%\n"
    }
   }
  },
  {
   "cell_type": "markdown",
   "source": [
    "\n",
    "<div style=\"color:white\"> <font size=\"12\">\n",
    "<li>Find Nested List Length.</li>\n",
    "</div>\n",
    "\n"
   ],
   "metadata": {
    "collapsed": false,
    "pycharm": {
     "name": "#%% md\n"
    }
   }
  },
  {
   "cell_type": "code",
   "execution_count": 21,
   "outputs": [
    {
     "name": "stdout",
     "output_type": "stream",
     "text": [
      "Number of lists in list =  3\n"
     ]
    }
   ],
   "source": [
    "# List of lists\n",
    "listOfElems2D = [ [1,2,3,45,6,7],\n",
    "                    [22,33,44,55],\n",
    "                    [11,13,14,15] ]\n",
    "length = len(listOfElems2D)\n",
    "print('Number of lists in list = ', length)"
   ],
   "metadata": {
    "collapsed": false,
    "pycharm": {
     "name": "#%%\n"
    }
   }
  },
  {
   "cell_type": "code",
   "execution_count": 24,
   "outputs": [
    {
     "name": "stdout",
     "output_type": "stream",
     "text": [
      "3\n",
      "2\n"
     ]
    }
   ],
   "source": [
    "L = ['a', ['bb', 'cc'], 'd']\n",
    "\n",
    "print(len(L))\n",
    "# Prints 3\n",
    "\n",
    "print(len(L[1]))\n",
    "# Prints 2"
   ],
   "metadata": {
    "collapsed": false,
    "pycharm": {
     "name": "#%%\n"
    }
   }
  },
  {
   "cell_type": "markdown",
   "source": [
    "<ul>\n",
    "<div style=\"text-align: LEFT\"> <div style=\"color:BLUE\"> <font size=\"13\"> <p><b>Creating a matrix using Nested List</b></p></div> </div></font>\n",
    "<div style=\"color:white\"> <font size=\"12\">\n",
    "<li>Creating a matrix is one of the most useful applications of nested lists.</li>\n",
    "<div style=\"text-align: center\">\n",
    "<img src=\"PICTURES/DAY2-L2.png\" width=\"1100\" height=\"350\"/>\n",
    "<div style=\"color:white\"> <font size=\"12\">\n",
    "<li> They can be helpful if you want to create a matrix or need to store a sublist along with other data types.</li>\n",
    "<li>The number of elements in the nested lists is equal to the number of rows of the matrix. </li>\n",
    "<li>Thus, each element of the nested list (matrix) will have two indices: the row and the column.</li>\n",
    "</div></font>\n",
    "</ul>"
   ],
   "metadata": {
    "collapsed": false,
    "pycharm": {
     "name": "#%% md\n"
    }
   }
  },
  {
   "cell_type": "code",
   "execution_count": 22,
   "outputs": [
    {
     "name": "stdout",
     "output_type": "stream",
     "text": [
      "matrix: \n",
      "[0, 1, 2]\n",
      "[3, 4, 5]\n",
      "[6, 7, 8]\n",
      "[9, 10, 11]\n",
      "element on row 2 and column 1:  3\n",
      "element on row 3 and column 2:  7\n"
     ]
    }
   ],
   "source": [
    "# create matrix of size 4 x 3\n",
    "matrix = [[0, 1, 2],\n",
    "          [3, 4, 5],\n",
    "          [6, 7, 8],\n",
    "          [9, 10, 11]]\n",
    "\n",
    "rows = len(matrix)  # no of rows is no of sublists i.e. len of list\n",
    "cols = len(matrix[0])  # no of cols is len of sublist\n",
    "\n",
    "# printing matrix\n",
    "print(\"matrix: \")\n",
    "for i in range(0, rows):\n",
    "    print(matrix[i])\n",
    "\n",
    "# accessing the element on row 2 and column 1 i.e. 3\n",
    "print(\"element on row 2 and column 1: \", matrix[1][0])\n",
    "\n",
    "# accessing the element on row 3 and column 2 i.e. 7\n",
    "print(\"element on row 3 and column 2: \", matrix[2][1])"
   ],
   "metadata": {
    "collapsed": false,
    "pycharm": {
     "name": "#%%\n"
    }
   }
  },
  {
   "cell_type": "markdown",
   "source": [
    "<ul>\n",
    "<div style=\"text-align: LEFT\"> <div style=\"color:BLUE\"> <font size=\"13\"> <p><b>Negative List Indexing In a Nested List</b></p></div> </div></font>\n",
    "<div style=\"color:white\"> <font size=\"12\">\n",
    "<li>You can access a nested list by negative indexing as well.</li>\n",
    "<li> Negative indexes count backward from the end of the list. </li>\n",
    "<li>So, L[-1] refers to the last item, L[-2] is the second-last, and so on.</li>\n",
    "<li>The negative indexes for the items in a nested list are illustrated as below:</li>\n",
    "</div></font>\n",
    "<div style=\"text-align: center\">\n",
    "<img src=\"PICTURES/DAY2-L3.png\" width=\"900\" height=\"450\"/>\n",
    "</ul>"
   ],
   "metadata": {
    "collapsed": false,
    "pycharm": {
     "name": "#%% md\n"
    }
   }
  },
  {
   "cell_type": "code",
   "execution_count": null,
   "outputs": [],
   "source": [
    "L = ['a', 'b', ['cc', 'dd', ['eee', 'fff']], 'g', 'h']\n",
    "\n",
    "print(L[-3])\n",
    "# Prints ['cc', 'dd', ['eee', 'fff']]\n",
    "\n",
    "print(L[-3][-1])\n",
    "# Prints ['eee', 'fff']\n",
    "\n",
    "print(L[-3][-1][-2])\n",
    "# Prints eee"
   ],
   "metadata": {
    "collapsed": false,
    "pycharm": {
     "name": "#%%\n"
    }
   }
  },
  {
   "cell_type": "markdown",
   "source": [
    "<div style=\"color:white\"> <font size=\"16\">\n",
    "<li><strong>Add items to a Nested list---Using <strong>append()</strong> method</strong></li></div>\n",
    "<div style=\"color:white\"> <font size=\"8\">\n",
    "        <li>To add new values to the end of the nested list, use <strong>append()</strong> method.</li>\n",
    "\n",
    "</div>"
   ],
   "metadata": {
    "collapsed": false,
    "pycharm": {
     "name": "#%% md\n"
    }
   }
  },
  {
   "cell_type": "code",
   "execution_count": 25,
   "outputs": [
    {
     "name": "stdout",
     "output_type": "stream",
     "text": [
      "['a', ['bb', 'cc', 'xx'], 'd']\n"
     ]
    }
   ],
   "source": [
    "L = ['a', ['bb', 'cc'], 'd']\n",
    "L[1].append('xx')\n",
    "print(L)\n",
    "# Prints ['a', ['bb', 'cc', 'xx'], 'd']"
   ],
   "metadata": {
    "collapsed": false,
    "pycharm": {
     "name": "#%%\n"
    }
   }
  },
  {
   "cell_type": "markdown",
   "source": [
    "<div style=\"color:white\"> <font size=\"16\">\n",
    "<li><strong>Add items to a Nested list---Using <strong>insert()</strong> method</strong></strong></li>\n",
    "<li>When you want to insert an item at a specific position in a nested list, use <strong>insert()</strong> method.</li>\n",
    "</div>"
   ],
   "metadata": {
    "collapsed": false,
    "pycharm": {
     "name": "#%% md\n"
    }
   }
  },
  {
   "cell_type": "code",
   "execution_count": null,
   "outputs": [],
   "source": [
    "L = ['a', ['bb', 'cc'], 'd']\n",
    "L[1].insert(0,'xx')\n",
    "print(L)\n",
    "# Prints ['a', ['xx', 'bb', 'cc'], 'd']"
   ],
   "metadata": {
    "collapsed": false,
    "pycharm": {
     "name": "#%%\n"
    }
   }
  },
  {
   "cell_type": "markdown",
   "source": [
    "<div style=\"color:white\"> <font size=\"16\">\n",
    "<li><strong>Add items to a Nested list---Using <strong>extend()</strong> method</strong></strong></li>\n",
    "<li>You can merge one list into another by using <strong>extend()</strong> method.</li>\n",
    "</div>"
   ],
   "metadata": {
    "collapsed": false,
    "pycharm": {
     "name": "#%% md\n"
    }
   }
  },
  {
   "cell_type": "code",
   "execution_count": 26,
   "outputs": [
    {
     "name": "stdout",
     "output_type": "stream",
     "text": [
      "['a', ['bb', 'cc', 1, 2, 3], 'd']\n"
     ]
    }
   ],
   "source": [
    "L = ['a', ['bb', 'cc'], 'd']\n",
    "L[1].extend([1,2,3])\n",
    "print(L)\n",
    "# Prints ['a', ['bb', 'cc', 1, 2, 3], 'd']"
   ],
   "metadata": {
    "collapsed": false,
    "pycharm": {
     "name": "#%%\n"
    }
   }
  },
  {
   "cell_type": "markdown",
   "source": [
    "<div style=\"color:white\"> <font size=\"16\">\n",
    "<li><strong>Remove items from a Nested List---Using <strong>pop()</strong> method</strong></strong></li>\n",
    "<li>If you know the index of the item you want, you can use <strong>pop()</strong> method.</li>\n",
    " <li>It modifies the list and returns the removed item.</li>\n",
    "</div>"
   ],
   "metadata": {
    "collapsed": false,
    "pycharm": {
     "name": "#%% md\n"
    }
   }
  },
  {
   "cell_type": "code",
   "execution_count": 27,
   "outputs": [
    {
     "name": "stdout",
     "output_type": "stream",
     "text": [
      "['a', ['bb', 'dd'], 'e']\n",
      "cc\n"
     ]
    }
   ],
   "source": [
    "L = ['a', ['bb', 'cc', 'dd'], 'e']\n",
    "x = L[1].pop(1)\n",
    "print(L)\n",
    "# Prints ['a', ['bb', 'dd'], 'e']\n",
    "\n",
    "# removed item\n",
    "print(x)\n",
    "# Prints cc"
   ],
   "metadata": {
    "collapsed": false,
    "pycharm": {
     "name": "#%%\n"
    }
   }
  },
  {
   "cell_type": "markdown",
   "source": [
    "<div style=\"color:white\"> <font size=\"16\">\n",
    "<li><strong>Remove items from a Nested List---Using <strong>del()</strong> method</strong></strong></li>\n",
    "<li>If you don’t need the removed value, use the <strong>del statement</strong>.</li>\n",
    "</div>"
   ],
   "metadata": {
    "collapsed": false,
    "pycharm": {
     "name": "#%% md\n"
    }
   }
  },
  {
   "cell_type": "code",
   "execution_count": 2,
   "outputs": [
    {
     "name": "stdout",
     "output_type": "stream",
     "text": [
      "['a', ['bb', 'dd'], 'e']\n"
     ]
    }
   ],
   "source": [
    "L = ['a', ['bb', 'cc', 'dd'], 'e']\n",
    "del L[1][1]\n",
    "print(L)\n",
    "# Prints ['a', ['bb', 'dd'], 'e']"
   ],
   "metadata": {
    "collapsed": false,
    "pycharm": {
     "name": "#%%\n"
    }
   }
  },
  {
   "cell_type": "markdown",
   "source": [
    "<div style=\"color:white\"> <font size=\"16\">\n",
    "<li><strong>Remove items from a Nested List---Using <strong>remove()</strong> method</strong></strong></li>\n",
    "<li>If you’re not sure where the item is in the list, use <strong>remove()</strong> method to delete it by value.</li>\n",
    "</div>"
   ],
   "metadata": {
    "collapsed": false,
    "pycharm": {
     "name": "#%% md\n"
    }
   }
  },
  {
   "cell_type": "code",
   "execution_count": 28,
   "outputs": [
    {
     "name": "stdout",
     "output_type": "stream",
     "text": [
      "['a', ['bb', 'dd'], 'e']\n"
     ]
    }
   ],
   "source": [
    "L = ['a', ['bb', 'cc', 'dd'], 'e']\n",
    "L[1].remove('cc')\n",
    "print(L)\n",
    "# Prints ['a', ['bb', 'dd'], 'e']"
   ],
   "metadata": {
    "collapsed": false,
    "pycharm": {
     "name": "#%%\n"
    }
   }
  },
  {
   "cell_type": "markdown",
   "source": [
    "<div style=\"text-align: center\">\n",
    "<img src=\"PICTURES/DAY2-L4.png\" width=\"900\" height=\"450\"/>"
   ],
   "metadata": {
    "collapsed": false,
    "pycharm": {
     "name": "#%% md\n"
    }
   }
  },
  {
   "cell_type": "code",
   "execution_count": 33,
   "outputs": [
    {
     "name": "stdout",
     "output_type": "stream",
     "text": [
      "[0, 1, 2, 3, 4]\n",
      "[0, 1, 2, 3, 4]\n",
      "[0, 1, 2, 3, 4]\n",
      "[0, 1, 2, 3, 4]\n",
      "[0, 1, 2, 3, 4]\n"
     ]
    }
   ],
   "source": [
    "\n",
    "matrix = []\n",
    "\n",
    "for i in range(5):\n",
    "\n",
    "    # Append an empty sublist inside the list\n",
    "    matrix.append([])\n",
    "\n",
    "    for j in range(5):\n",
    "        matrix[i].append(j)\n",
    "    print(matrix[i])\n",
    "#print(matrix)"
   ],
   "metadata": {
    "collapsed": false,
    "pycharm": {
     "name": "#%%\n"
    }
   }
  },
  {
   "cell_type": "code",
   "execution_count": null,
   "outputs": [],
   "source": [],
   "metadata": {
    "collapsed": false,
    "pycharm": {
     "name": "#%%\n"
    }
   }
  }
 ],
 "metadata": {
  "kernelspec": {
   "display_name": "Python 3",
   "language": "python",
   "name": "python3"
  },
  "language_info": {
   "codemirror_mode": {
    "name": "ipython",
    "version": 2
   },
   "file_extension": ".py",
   "mimetype": "text/x-python",
   "name": "python",
   "nbconvert_exporter": "python",
   "pygments_lexer": "ipython2",
   "version": "2.7.6"
  }
 },
 "nbformat": 4,
 "nbformat_minor": 0
}