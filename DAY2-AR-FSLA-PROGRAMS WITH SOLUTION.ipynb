{
 "cells": [
  {
   "cell_type": "markdown",
   "metadata": {
    "collapsed": true,
    "pycharm": {
     "name": "#%% md\n"
    }
   },
   "source": [
    "<ul>\n",
    "<div style=\"text-align: LEFT\"> <div style=\"color:BLUE\"> <font size=\"13\"> <p><b>FUNCTIONS PROGRAMS</b></p></div> </div></font>\n",
    "<div style=\"color:white\"> <font size=\"12\">\n",
    "</div></font>\n",
    "</ul>"
   ]
  },
  {
   "cell_type": "markdown",
   "source": [
    "<ul>\n",
    "<div style=\"color:white\"> <font size=\"12\">\n",
    "<li>program to find the <strong>sum of two numbers</strong></li>\n",
    "</div></font>\n",
    "</ul>"
   ],
   "metadata": {
    "collapsed": false,
    "pycharm": {
     "name": "#%% md\n"
    }
   }
  },
  {
   "cell_type": "code",
   "execution_count": 19,
   "outputs": [
    {
     "name": "stdout",
     "output_type": "stream",
     "text": [
      "THE SUM OF TWO NUMBERS IS 3\n"
     ]
    }
   ],
   "source": [
    "#python3 program to find the sum of two numbers\n",
    "a=int(input(\"ENTER THE FIRST NUMBER\"))#prompting the user for input and performing type-casting to convert the input from\n",
    "b=int(input(\"ENTER THE SECOND NUMBER\"))  # string to int\n",
    "def add():#function defination of add function\n",
    "  sum=a+b#adding two numbers and storing the result in the variable sum\n",
    "  return sum #returning the sum when the function is called\n",
    "def main():#function defination of main function\n",
    "  result=add()#calling the function add and storing the returning value in the variable result\n",
    "  print(f\"THE SUM OF TWO NUMBERS IS {result}\")#printing the sum of two numbers\n",
    "if(__name__==\"__main__\"):\n",
    "  main()#calling the main function\n"
   ],
   "metadata": {
    "collapsed": false,
    "pycharm": {
     "name": "#%%\n"
    }
   }
  },
  {
   "cell_type": "markdown",
   "source": [
    "<ul>\n",
    "<div style=\"color:white\"> <font size=\"12\">\n",
    "<li>program to <strong>check whether the given number is even or odd</strong></li>\n",
    "</div></font>\n",
    "</ul>"
   ],
   "metadata": {
    "collapsed": false,
    "pycharm": {
     "name": "#%% md\n"
    }
   }
  },
  {
   "cell_type": "code",
   "execution_count": null,
   "outputs": [],
   "source": [
    "#python3 program to check whether the given number is even or odd\n",
    "n=int(input(\"ENTER THE NUMBER\"))#prompting the user for input and performing type-casting to convert the input from string to int\n",
    "def even_or_odd():#function defination of the function even_or_odd\n",
    "  if(n%2==0):#conditional statement to check whether the number is divisible by 2\n",
    "    print(f\"{n} is even\")#printing the number is even if the condition is true\n",
    "  else:\n",
    "    print(f\"{n} is odd\")#printing the number is odd if the condition is false\n",
    "def main():#function defination of the main function\n",
    "  even_or_odd()#calling the even_or_odd function\n",
    "if(__name__==\"__main__\"):\n",
    "  main()#calling the main function"
   ],
   "metadata": {
    "collapsed": false,
    "pycharm": {
     "name": "#%%\n"
    }
   }
  },
  {
   "cell_type": "markdown",
   "source": [
    "<ul>\n",
    "<div style=\"color:white\"> <font size=\"12\">\n",
    "<li>program to <strong>find the square of a number</strong></li>\n",
    "</div></font>\n",
    "</ul>"
   ],
   "metadata": {
    "collapsed": false,
    "pycharm": {
     "name": "#%% md\n"
    }
   }
  },
  {
   "cell_type": "code",
   "execution_count": null,
   "outputs": [],
   "source": [
    "#python3 program to find the square of a number\n",
    "n=int(input(\"ENTER THE NUMBER\"))#prompting the user for input and performing type casting to convert the input from string to int\n",
    "def square():#function defination of the square function\n",
    "  result=n**2#performing the square of a number and storing it in the variable result\n",
    "  return result#returning the result\n",
    "def main():#function defination of the main function\n",
    "  sq=square()#calling the square function and storing the returning value in variable square\n",
    "  print(f\"THE SQUARE OF {n} IS {sq}\")#printing the number and square of the number\n",
    "if(__name__==\"__main__\"):\n",
    "  main()#calling the main function"
   ],
   "metadata": {
    "collapsed": false,
    "pycharm": {
     "name": "#%%\n"
    }
   }
  },
  {
   "cell_type": "markdown",
   "source": [
    "<ul>\n",
    "<div style=\"color:white\"> <font size=\"12\">\n",
    "<li>program to <strong>swap two numbers</strong></li>\n",
    "</div></font>\n",
    "</ul>"
   ],
   "metadata": {
    "collapsed": false,
    "pycharm": {
     "name": "#%% md\n"
    }
   }
  },
  {
   "cell_type": "code",
   "execution_count": null,
   "outputs": [],
   "source": [
    "#python3 program to swap two numbers\n",
    "x=int(input(\"ENTER THE 1st NUMBER\"))#prompting the user for input and performing type-casting to convert the input from string to int\n",
    "\n",
    "y=int(input(\"ENTER THE 2nd NUMBER\"))\n",
    "def swap(x,y):#function defination of the function swap with two arguments x and y\n",
    "  print(f\"before swaping value of x is{x} and y is {y}\")#printing the values of x and y before swapping\n",
    "  temp=x#swaping the values of x and y by taking one temp variable\n",
    "  x=y\n",
    "  y=temp\n",
    "  print(f\"AFTER SWAPING VALUE OF x IS {x} AND y IS {y}\")#printing the values of x and y after swapping\n",
    "def main():#function defination of main function\n",
    "  swap(x,y)#calling the swap function by passing two arguments x and y\n",
    "if(__name__==\"__main__\"):\n",
    "  main()#calling the main function"
   ],
   "metadata": {
    "collapsed": false,
    "pycharm": {
     "name": "#%%\n"
    }
   }
  },
  {
   "cell_type": "markdown",
   "source": [
    "<ul>\n",
    "<div style=\"color:white\"> <font size=\"12\">\n",
    "<li>program to <strong>find the power of m rise to n</strong></li>\n",
    "</div></font>\n",
    "</ul>"
   ],
   "metadata": {
    "collapsed": false,
    "pycharm": {
     "name": "#%% md\n"
    }
   }
  },
  {
   "cell_type": "code",
   "execution_count": null,
   "outputs": [],
   "source": [
    "#python3 program to find the power of m rise to n\n",
    "m=int(input(\"ENTER THE BASE NUMBER\"))#prompting the user for input and performing type-casting to convert the user input from string to int\n",
    "n=int(input(\"ENTER THE POWER TO WHICH THE NUMBER HAS TO BE RAISED\"))\n",
    "def power(m,n):#function defination of the power function with two arguments m and n\n",
    "  result=m**n#performing m power n and storing the result in variable result\n",
    "  return result#returning the result when the function is called\n",
    "def main():#function defination of the main function\n",
    "  res=power(m,n)#calling the function power by passing 2 arguments m and n and storing the returning value in the variable res\n",
    "  print(f\"THE RESULT IS {res}\")#printing the result\n",
    "if(__name__==\"__main__\"):\n",
    "  main()#calling the main function"
   ],
   "metadata": {
    "collapsed": false,
    "pycharm": {
     "name": "#%%\n"
    }
   }
  },
  {
   "cell_type": "markdown",
   "source": [
    "<ul>\n",
    "<div style=\"color:white\"> <font size=\"12\">\n",
    "<li>program to <strong>find the number is niven</strong></li>\n",
    "</div></font>\n",
    "</ul>"
   ],
   "metadata": {
    "collapsed": false,
    "pycharm": {
     "name": "#%% md\n"
    }
   }
  },
  {
   "cell_type": "code",
   "execution_count": null,
   "outputs": [],
   "source": [
    "#python3 program to find the number is niven\n",
    "#the number is niven if it is divisible by the sum of its digits\n",
    "n=int(input(\"ENTER THE NUMBER\"))#prompting the user for input\n",
    "def check_niven(n):#function defination of the function check_niven with one argument n\n",
    "  temp=n#assigning the value of n to temp\n",
    "  sum=0#initialising the value of sum to 0\n",
    "  while(temp>0):#conditional statement to check the number is greater than 0\n",
    "    last_digit=temp%10#accessing the last digit of the number\n",
    "    sum=sum+last_digit#calculating the sum of digits\n",
    "    temp=temp//10#accessing the remaining numbers leavimg the last digit\n",
    "  if(n%sum==0):#checking whether the number is completely divisible by the sum of digits\n",
    "    print(f\"{n} IS NIVEN NUMBER\")#printing the number is niven if the condition is true\n",
    "  else:\n",
    "    print(f\"{n} IS NOT NIVEN NUMBER\")#printing the number is not niven if the condition is false\n",
    "def main():#function defination of the main function\n",
    "  check_niven(n)#calling the function check_niven by passing one parameter n\n",
    "if(__name__==\"__main__\"):\n",
    "  main()#calling main function"
   ],
   "metadata": {
    "collapsed": false,
    "pycharm": {
     "name": "#%%\n"
    }
   }
  },
  {
   "cell_type": "markdown",
   "source": [
    "<ul>\n",
    "<div style=\"color:white\"> <font size=\"12\">\n",
    "<li>program to <strong>find the number is niven</strong></li>\n",
    "</div></font>\n",
    "</ul>"
   ],
   "metadata": {
    "collapsed": false,
    "pycharm": {
     "name": "#%% md\n"
    }
   }
  },
  {
   "cell_type": "code",
   "execution_count": null,
   "outputs": [],
   "source": [
    "#python3 program to check the number is palindrome\n",
    "n=int(input(\"ENTER THE NUMBER\"))#prompting the user for input and performing type-casting to convert the user input from string to int\n",
    "def palindrome(n):#function defination of the function palindrome with one argument n\n",
    "  temp=n#assigning the value of n to variable temp\n",
    "  rn=0#initialising the value of rn to o\n",
    "  while(temp>0):#checking whether the number is greater than 0\n",
    "    last_digit=temp%10#accessing the last digit of the number\n",
    "    rn=rn*10+last_digit\n",
    "    temp=temp//10#accessing the nnumber leaving the last digit\n",
    "  if(n==rn):#checking whether n is equal to rn\n",
    "    print(f\"{n} IS PALINDROME\")#printing the number is palindrome if the condition is true\n",
    "  else:\n",
    "    print(f\"{n} IS NOT PALINDROME\")#printing the number is not palindrome if the condition is not true\n",
    "def main():#function defination of the main function\n",
    "  palindrome(n)#calling the function palindrome by passing one argument n\n",
    "if(__name__==\"__main__\"):\n",
    "  main()#calling the main function"
   ],
   "metadata": {
    "collapsed": false,
    "pycharm": {
     "name": "#%%\n"
    }
   }
  },
  {
   "cell_type": "markdown",
   "source": [
    "<ul>\n",
    "<div style=\"color:white\"> <font size=\"12\">\n",
    "<li>program to <strong>find the largest of 3 numbers</strong></li>\n",
    "</div></font>\n",
    "</ul>"
   ],
   "metadata": {
    "collapsed": false,
    "pycharm": {
     "name": "#%% md\n"
    }
   }
  },
  {
   "cell_type": "code",
   "execution_count": null,
   "outputs": [],
   "source": [
    "#python3 program to find the largest of 3 numbers\n",
    "a=int(input(\"ENTER 1st NUMBER \"))#prompting the user for input and performing type-casting to convert the user input from string to int\n",
    "b=int(input(\"ENTER 2nd NUMBER\"))\n",
    "c=int(input(\"ENTER 3rd NUMBER\"))\n",
    "def largest():#function defination of the function largest\n",
    "  if(a>b and a>c):#checking whether a is greater than b and c\n",
    "    print(f\"{a} is the largest\")#printing a is the largest if the condition is true\n",
    "  elif(b>a and b>c):#checking whether b is greater than both a and c\n",
    "    print(f\"{b} is the largest\")#printing b is the largest if the condition is true\n",
    "  else:\n",
    "    print(f\"{c} is the largest\")#printing c is the largest if both the condition is not true\n",
    "largest()#calling the function largest"
   ],
   "metadata": {
    "collapsed": false,
    "pycharm": {
     "name": "#%%\n"
    }
   }
  },
  {
   "cell_type": "markdown",
   "source": [
    "<ul>\n",
    "<div style=\"color:white\"> <font size=\"12\">\n",
    "<li>program to <strong>the factors of the number</strong></li>\n",
    "</div></font>\n",
    "</ul>"
   ],
   "metadata": {
    "collapsed": false,
    "pycharm": {
     "name": "#%% md\n"
    }
   }
  },
  {
   "cell_type": "code",
   "source": [
    "#python3 program to find the factors of the number\n",
    "n=int(input(\"ENTER THE NUMBER\"))#prompting the user for input and performing type-casting to convert the user input from string to int\n",
    "def factors():#function defination of the function factors\n",
    "  print(f\"THE FACTORS OF {n} ARE\")#printing the factors of number are\n",
    "  for i in range (1,n):#looping statement to access all the values between 1 and the number\n",
    "    if(n%i==0):#checking whether n is divisible by i\n",
    "      print(i)#printing i if the condition is true\n",
    "factors()#calling the function factors"
   ],
   "metadata": {
    "collapsed": false,
    "pycharm": {
     "name": "#%%\n"
    }
   },
   "execution_count": null,
   "outputs": []
  },
  {
   "cell_type": "code",
   "execution_count": null,
   "outputs": [],
   "source": [],
   "metadata": {
    "collapsed": false,
    "pycharm": {
     "name": "#%%\n"
    }
   }
  },
  {
   "cell_type": "markdown",
   "source": [
    "<ul>\n",
    "<div style=\"text-align: LEFT\"> <div style=\"color:BLUE\"> <font size=\"13\"> <p><b>STRINGS PROGRAMS</b></p></div> </div></font>\n",
    "<div style=\"color:white\"> <font size=\"12\">\n",
    "</div></font>\n",
    "</ul>"
   ],
   "metadata": {
    "collapsed": false,
    "pycharm": {
     "name": "#%% md\n"
    }
   }
  },
  {
   "cell_type": "markdown",
   "source": [
    "<ul>\n",
    "<div style=\"color:white\"> <font size=\"12\">\n",
    "<li>program to <strong>find the length of the string</strong></li>\n",
    "</div></font>\n",
    "</ul>"
   ],
   "metadata": {
    "collapsed": false,
    "pycharm": {
     "name": "#%% md\n"
    }
   }
  },
  {
   "cell_type": "code",
   "execution_count": null,
   "outputs": [],
   "source": [
    "#program to find the length of the string\n",
    "str=input(\"ENTER THE STRING\")#prompting the user for input a string\n",
    "count=0#initialising count variable to 0\n",
    "for each_char in str:#loop construct for accessing each character in the string\n",
    "  count+=1#incrementing the value of count\n",
    "print(f\"THE NUMBER OF CHARACTERS IN {str} IS {count}\")#printing the string and number of characters in it"
   ],
   "metadata": {
    "collapsed": false,
    "pycharm": {
     "name": "#%%\n"
    }
   }
  },
  {
   "cell_type": "markdown",
   "source": [
    "<ul>\n",
    "<div style=\"color:white\"> <font size=\"12\">\n",
    "<li>program to <strong>reverse the string</strong></li>\n",
    "</div></font>\n",
    "</ul>"
   ],
   "metadata": {
    "collapsed": false,
    "pycharm": {
     "name": "#%% md\n"
    }
   }
  },
  {
   "cell_type": "code",
   "execution_count": null,
   "outputs": [],
   "source": [
    "#program to reverse the string\n",
    "str=input(\"ENTER THE STRING\")#prompting the user to input a string\n",
    "rev=str[::-1]#performing slicing operation to reverse the string and storing it in variable rev\n",
    "print(f\"THE REVERSED STRING IS {rev}\")#printing the reversed string"
   ],
   "metadata": {
    "collapsed": false,
    "pycharm": {
     "name": "#%%\n"
    }
   }
  },
  {
   "cell_type": "markdown",
   "source": [
    "<ul>\n",
    "<div style=\"color:white\"> <font size=\"12\">\n",
    "<li>program to <strong>print the even length words in the string</strong></li>\n",
    "</div></font>\n",
    "</ul>"
   ],
   "metadata": {
    "collapsed": false,
    "pycharm": {
     "name": "#%% md\n"
    }
   }
  },
  {
   "cell_type": "code",
   "execution_count": null,
   "outputs": [],
   "source": [
    "#python3 code to print the even length words in the string\n",
    "s=input(\"ENTER THE STRING\")#prompting the user to input a string\n",
    "def printWords(s):#function defination of the function printWords\n",
    " s=s.split()#spliting the string\n",
    " for word in s:#iterating in words of string\n",
    "   if len(word)%2==0:#checking if the length is even\n",
    "     print(word)#printing the word if the condition is true\n",
    "printWords(s)#calling the function printWords"
   ],
   "metadata": {
    "collapsed": false,
    "pycharm": {
     "name": "#%%\n"
    }
   }
  },
  {
   "cell_type": "markdown",
   "source": [
    "<ul>\n",
    "<div style=\"color:white\"> <font size=\"12\">\n",
    "<li>program to <strong>check if the string has at least one letter and one number</strong></li>\n",
    "</div></font>\n",
    "</ul>"
   ],
   "metadata": {
    "collapsed": false,
    "pycharm": {
     "name": "#%% md\n"
    }
   }
  },
  {
   "cell_type": "code",
   "execution_count": null,
   "outputs": [],
   "source": [
    "#python program to check if the string has at least one letter and one number\n",
    "def checkString(str):#function defination of the function checkstring with one argument str\n",
    "  flag1=False#initialising the flag variables as False\n",
    "  flagn=False\n",
    "  for each_char in str:#loop construct to itterate through each character in the string\n",
    "    if(each_char.isalpha()):#checking whether the string has alphabet\n",
    "      flag1=True#updating the value of flag1 as True\n",
    "    if(each_char.isdigit()):#checking whether the string has number\n",
    "      flagn=True#updating the value of flagn as False\n",
    "  return flag1 and flagn#returning flag1 and flagn when the function is called\n",
    "\n",
    "print(checkString(\"STRINGS123\"))#calling the function checkString within the print statement by passing strings as the parameter\n",
    "print(checkString(\"abc\"))"
   ],
   "metadata": {
    "collapsed": false,
    "pycharm": {
     "name": "#%%\n"
    }
   }
  },
  {
   "cell_type": "markdown",
   "source": [
    "<ul>\n",
    "<div style=\"color:white\"> <font size=\"12\">\n",
    "<li>program to <strong>get a single string  from 2 given strings,separated by a space and swap the first two characters of each string</strong></li>\n",
    "</div></font>\n",
    "</ul>"
   ],
   "metadata": {
    "collapsed": false,
    "pycharm": {
     "name": "#%% md\n"
    }
   }
  },
  {
   "cell_type": "code",
   "execution_count": null,
   "outputs": [],
   "source": [
    "#python program to get a single string  from 2 given strings,separated by a space and swap the first two characters of each string\n",
    "def chars_mix_up(a,b):#function defination of chars_mix_up with two arguments a and b\n",
    "  new_a=b[:2]+a[2:]#performing splicing\n",
    "  new_b=a[:2]+b[2:]\n",
    "  return new_a+\" \"+new_b#concatinating new_a and new_b\n",
    "print(chars_mix_up('abc', 'xyz'))#calling the check function within the print statement"
   ],
   "metadata": {
    "collapsed": false,
    "pycharm": {
     "name": "#%%\n"
    }
   }
  }
 ],
 "metadata": {
  "kernelspec": {
   "display_name": "Python 3",
   "language": "python",
   "name": "python3"
  },
  "language_info": {
   "codemirror_mode": {
    "name": "ipython",
    "version": 2
   },
   "file_extension": ".py",
   "mimetype": "text/x-python",
   "name": "python",
   "nbconvert_exporter": "python",
   "pygments_lexer": "ipython2",
   "version": "2.7.6"
  }
 },
 "nbformat": 4,
 "nbformat_minor": 0
}