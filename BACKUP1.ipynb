{
 "cells": [
  {
   "cell_type": "markdown",
   "source": [
    "<div style=\"text-align: center\"> <div style=\"color:yellow\"> <font size=\"13\"> <p><b>FUNCTIONS IN PYTHON </b></p></div> </div></font>\n",
    "<div style=\"color:white\"> <font size=\"10\">\n",
    "<ul>\n",
    "  <li>A function is a block of code which only runs when it is called.</li>\n",
    "  <li>A function is Reusable piece of code.</li>\n",
    "  <li>Functions are created for solving a specific problem.</li>\n",
    "  <li>You can pass data, known as parameters, into a function.</li>\n",
    "  <li>A function can return data as a result.</li>\n",
    "</ul>\n",
    "</div></font>\n",
    "<div style=\"text-align: center\">\n",
    "<img src=\"PICTURES/DAY2-F1.png\" width=\"600\" height=\"150\" /></div>\n",
    "\n"
   ],
   "metadata": {
    "collapsed": false,
    "pycharm": {
     "name": "#%% md\n"
    }
   }
  },
  {
   "cell_type": "markdown",
   "source": [
    "<div style=\"text-align: center\"> <div style=\"color:yellow\"> <font size=\"13\"> <p><b>BUILT-IN FUNCTIONS IN PYTHON </b></p></div> </div></font>\n",
    "<div style=\"text-align: center\">\n",
    "\n",
    "<img src=\"PICTURES/DAY2-F2.png\" width=\"1000\" height=\"600\" /></div>"
   ],
   "metadata": {
    "collapsed": false,
    "pycharm": {
     "name": "#%% md\n"
    }
   }
  },
  {
   "cell_type": "code",
   "execution_count": 74,
   "outputs": [
    {
     "data": {
      "text/plain": "3"
     },
     "execution_count": 74,
     "metadata": {},
     "output_type": "execute_result"
    }
   ],
   "source": [
    "# Built-in Functions Examples\n",
    "\n",
    "abs(-3)"
   ],
   "metadata": {
    "collapsed": false,
    "pycharm": {
     "name": "#%%\n"
    }
   }
  },
  {
   "cell_type": "code",
   "execution_count": 75,
   "outputs": [
    {
     "data": {
      "text/plain": "1"
     },
     "execution_count": 75,
     "metadata": {},
     "output_type": "execute_result"
    }
   ],
   "source": [
    "# Built-in Functions Examples\n",
    "\n",
    "min(1, 2, 3, 4, 5)"
   ],
   "metadata": {
    "collapsed": false,
    "pycharm": {
     "name": "#%%\n"
    }
   }
  },
  {
   "cell_type": "code",
   "execution_count": 76,
   "outputs": [
    {
     "data": {
      "text/plain": "8"
     },
     "execution_count": 76,
     "metadata": {},
     "output_type": "execute_result"
    }
   ],
   "source": [
    "# Built-in Functions Examples\n",
    "\n",
    "max(4, 5, 6, 7, 8)"
   ],
   "metadata": {
    "collapsed": false,
    "pycharm": {
     "name": "#%%\n"
    }
   }
  },
  {
   "cell_type": "code",
   "execution_count": 77,
   "outputs": [
    {
     "data": {
      "text/plain": "(2, 1)"
     },
     "execution_count": 77,
     "metadata": {},
     "output_type": "execute_result"
    }
   ],
   "source": [
    "# Built-in Functions Examples\n",
    "\n",
    "divmod(5, 2)"
   ],
   "metadata": {
    "collapsed": false,
    "pycharm": {
     "name": "#%%\n"
    }
   }
  },
  {
   "cell_type": "code",
   "execution_count": 78,
   "outputs": [
    {
     "data": {
      "text/plain": "(2.0, 2.5)"
     },
     "execution_count": 78,
     "metadata": {},
     "output_type": "execute_result"
    }
   ],
   "source": [
    "# Built-in Functions Examples\n",
    "\n",
    "divmod(8.5, 3)"
   ],
   "metadata": {
    "collapsed": false,
    "pycharm": {
     "name": "#%%\n"
    }
   }
  },
  {
   "cell_type": "code",
   "execution_count": 79,
   "outputs": [
    {
     "data": {
      "text/plain": "9"
     },
     "execution_count": 79,
     "metadata": {},
     "output_type": "execute_result"
    }
   ],
   "source": [
    "# Built-in Functions Examples\n",
    "\n",
    "pow(3, 2)"
   ],
   "metadata": {
    "collapsed": false,
    "pycharm": {
     "name": "#%%\n"
    }
   }
  },
  {
   "cell_type": "code",
   "execution_count": 80,
   "outputs": [
    {
     "data": {
      "text/plain": "5"
     },
     "execution_count": 80,
     "metadata": {},
     "output_type": "execute_result"
    }
   ],
   "source": [
    "# Built-in Functions Examples\n",
    "\n",
    "len(\"Japan\")"
   ],
   "metadata": {
    "collapsed": false,
    "pycharm": {
     "name": "#%%\n"
    }
   }
  },
  {
   "cell_type": "markdown",
   "source": [
    "<div style=\"text-align: center\"> <div style=\"color:yellow\"> <font size=\"13\"> <p><b>USERDEFINED FUNCTIONS </b></p></div> </div></font>\n",
    "<div style=\"color:white\"> <font size=\"10\">\n",
    "<ul>\n",
    "  <li>Functions that we define ourselves to do certain specific task are referred as user-defined functions.</li>\n",
    "  </ul>\n",
    "</div></font>\n",
    "\n",
    "\n",
    "<div style=\"text-align: center\"> <div style=\"color:blue\"> <font size=\"7\"> <p><b>CREATING A FUNCTION </b></p></div> </div></font>\n",
    "<div style=\"color:white\"> <font size=\"10\">\n",
    "<ul>\n",
    "  <li>In Python a function is defined using the <strong>def</strong> keyword:</li>\n",
    "  </ul>\n",
    "</div></font>\n",
    "<div style=\"text-align: center\">\n",
    "<img src=\"PICTURES/DAY2-F5.png\" width=\"600\" height=\"250\" />\n",
    "<div style=\"text-align: center\">\n",
    "<div style=\"text-align: center\">\n",
    "<img src=\"PICTURES/DAY2-F6.png\" width=\"600\" height=\"150\" />\n",
    "<div style=\"text-align: center\">\n",
    "<img src=\"PICTURES/DAY2-F3.png\" width=\"600\" height=\"300\" />\n",
    "<div style=\"text-align: center\">\n",
    "<img src=\"PICTURES/DAY2-F4.png\" width=\"600\" height=\"400\" />\n",
    "\n",
    "\n",
    "\n",
    "<div style=\"text-align: center\"> <div style=\"color:blue\"> <font size=\"7\"> <p><b>CALLING A FUNCTION </b></p></div> </div></font>\n",
    "<div style=\"color:white\"> <font size=\"10\">\n",
    "<ul>\n",
    "  <li>To call a function, use the function name followed by parenthesis</li>\n",
    "  </ul>\n",
    "</div></font>\n",
    "<div style=\"text-align: center\">\n",
    "<img src=\"PICTURES/DAY2-F7.png\" width=\"450\" height=\"300\" />\n",
    "<div style=\"text-align: center\">"
   ],
   "metadata": {
    "collapsed": false,
    "pycharm": {
     "name": "#%% md\n"
    }
   }
  },
  {
   "cell_type": "code",
   "execution_count": null,
   "outputs": [],
   "source": [
    "#Example\n",
    "#CREATING A FUNCTION----FUNCTION DEFINITION--- WILL NOT BE EXECUTED UNTIL ITS CALLED\n",
    "\n",
    "def my_function():\n",
    "  print(\"WELCOME TO FUNCTIONS IN PYTHON\")\n",
    "  print(\"Inside Function Definition\")"
   ],
   "metadata": {
    "collapsed": false,
    "pycharm": {
     "name": "#%%\n"
    }
   }
  },
  {
   "cell_type": "code",
   "execution_count": 88,
   "outputs": [
    {
     "name": "stdout",
     "output_type": "stream",
     "text": [
      "WELCOME TO FUNCTIONS IN PYTHON \n",
      "Inside Function Definition\n"
     ]
    }
   ],
   "source": [
    "#Example\n",
    "#FUNCTION DEFINITION---- FUNCTION CALL----- To call a function use the function name.\n",
    "\n",
    "#FUNCTION DEFINITION\n",
    "def my_function():\n",
    "  print(\"WELCOME TO FUNCTIONS IN PYTHON \")\n",
    "  print(\"Inside Function Definition\")\n",
    "\n",
    "#CALLING FUNCTION\n",
    "my_function()"
   ],
   "metadata": {
    "collapsed": false,
    "pycharm": {
     "name": "#%%\n"
    }
   }
  },
  {
   "cell_type": "markdown",
   "source": [
    "<div style=\"text-align: center\"> <div style=\"color:blue\"> <font size=\"7\"> <p><b>main() FUNCTION IN PYTHON </b></p></div> </div></font>\n",
    "<div style=\"color:white\"> <font size=\"10\">\n",
    "</div></font>\n",
    "<div style=\"text-align: center\">\n",
    "<div style=\"text-align: right\">  </div>\n",
    "<img src=\"PICTURES/DAY2-F8.png\" width=\"900\" height=\"500\" />"
   ],
   "metadata": {
    "collapsed": false,
    "pycharm": {
     "name": "#%% md\n"
    }
   }
  },
  {
   "cell_type": "code",
   "execution_count": 90,
   "outputs": [
    {
     "name": "stdout",
     "output_type": "stream",
     "text": [
      "Outside main() Function\n",
      "Inside  main() Function\n"
     ]
    }
   ],
   "source": [
    "#Example\n",
    "print(\"Outside main() Function\")\n",
    "#FUNCTION DEFINITION\n",
    "def main():\n",
    "    print(\"Inside  main() Function\")\n",
    "\n",
    "if __name__ == \"__main__\":\n",
    "    main()\n"
   ],
   "metadata": {
    "collapsed": false,
    "pycharm": {
     "name": "#%%\n"
    }
   }
  },
  {
   "cell_type": "markdown",
   "source": [
    "<div style=\"text-align: center\">\n",
    "<div style=\"text-align: right\">  </div>\n",
    "<img src=\"PICTURES/DAY2-F9.png\" width=\"700\" height=\"500\" />"
   ],
   "metadata": {
    "collapsed": false,
    "pycharm": {
     "name": "#%% md\n"
    }
   }
  },
  {
   "cell_type": "code",
   "source": [
    "#Let’s see an example without the main function.\n",
    "\n",
    "#Example:\n",
    "\n",
    "print(\"Good Morning\")\n",
    "\n",
    "def main():\n",
    "          print(\"Hello Python\")\n",
    "\n",
    "print(\"Good Evening\")"
   ],
   "metadata": {
    "collapsed": false,
    "pycharm": {
     "name": "#%%\n"
    }
   },
   "execution_count": 83,
   "outputs": [
    {
     "name": "stdout",
     "output_type": "stream",
     "text": [
      "Good Morning\n",
      "Good Evening\n"
     ]
    }
   ]
  },
  {
   "cell_type": "markdown",
   "source": [
    "\n",
    "<div style=\"color:white\"> <font size=\"10\">\n",
    "<ul>\n",
    "  <li>If we observe the above program, it has printed only ‘Good Morning’ and ‘Good Evening’  and it did not print the term ‘Hello Python’ which is because we didn’t call it manually or we didn’t use the python’s main function here.</li>\n",
    "  </ul>\n",
    "</div></font>\n"
   ],
   "metadata": {
    "collapsed": false,
    "pycharm": {
     "name": "#%% md\n"
    }
   }
  },
  {
   "cell_type": "code",
   "source": [
    "#Now let’s see the program with function call if __name__ == “__main__”.\n",
    "\n",
    "#Example 2:\n",
    "\n",
    "print(\"Good Morning\")\n",
    "\n",
    "def main():\n",
    "          print(\"Hello Python\")\n",
    "\n",
    "print(\"Good Evening\")\n",
    "\n",
    "if __name__ == \"__main__\":\n",
    "         main()"
   ],
   "metadata": {
    "collapsed": false,
    "pycharm": {
     "name": "#%%\n"
    }
   },
   "execution_count": 84,
   "outputs": [
    {
     "name": "stdout",
     "output_type": "stream",
     "text": [
      "Good Morning\n",
      "Good Evening\n",
      "Hello Python\n"
     ]
    }
   ]
  },
  {
   "cell_type": "markdown",
   "source": [
    "<div style=\"color:white\"> <font size=\"10\">\n",
    "<ul>\n",
    "  <li>If you observe the above program you may get a question – why Hello Python is printed? That’s because we are calling the main function at the end of the code, hence it prints ‘Good Morning’ first, ‘Good Evening’ next and ‘Hello Python’ at the end.</li>\n",
    "  </ul>\n",
    "</div></font>"
   ],
   "metadata": {
    "collapsed": false,
    "pycharm": {
     "name": "#%% md\n"
    }
   }
  },
  {
   "cell_type": "code",
   "source": [
    "#Program to Demonstrate a Function with and without Arguments\n",
    "def function_definition_with_no_argument():\n",
    "    print(\"This is a function definition with NO Argument\")\n",
    "def function_definition_with_one_argument(message):\n",
    "    print(f\"This is a function definition with {message}\")\n",
    "def main():\n",
    "    function_definition_with_no_argument()\n",
    "    function_definition_with_one_argument(\"One Argument\")\n",
    "if __name__ == \"__main__\":\n",
    "    main()"
   ],
   "metadata": {
    "collapsed": false,
    "pycharm": {
     "name": "#%%\n"
    }
   },
   "execution_count": 87,
   "outputs": [
    {
     "name": "stdout",
     "output_type": "stream",
     "text": [
      "This is a function definition with NO Argument\n",
      "This is a function definition with One Argument\n"
     ]
    }
   ]
  },
  {
   "cell_type": "markdown",
   "source": [
    "<div style=\"text-align: center\"> <div style=\"color:yellow\"> <font size=\"13\"> <p><b>return STATEMENT IN PYTHON </b></p></div> </div></font>\n",
    "<div style=\"color:white\"> <font size=\"10\">\n",
    "<ul>\n",
    "  <li>The python return statement is used in a function to return something to the caller program.</li>\n",
    "  <li>We can use the return statement inside a function only.</li>\n",
    "  <li>In Python, every function returns something. If there are no return statements, then it returns None.</li>\n",
    "  <li>If the return statement contains an expression, it’s evaluated first and then the value is returned.</li>\n",
    "  <li>The return statement terminates the function execution.</li>\n",
    "  <li>A function can have multiple return statements. When any of them is executed, the function terminates.</li>\n",
    "  <li>A function can return multiple types of values.</li>\n",
    "  <li>Python function can return multiple values in a single return statement.</li>\n",
    "\n",
    "\n",
    "<div style=\"text-align: center\"> <div style=\"color:BLUE\"> <font size=\"13\"> <p><b>return STATEMENT EXAMPLE </b></p></div> </div></font>\n",
    "<div style=\"color:white\"> <font size=\"10\">\n",
    "<ul>\n",
    "  <li>Let’s look at a simple example to add two numbers and return the total to the caller.</li>\n",
    "</ul>\n",
    "</div></font>\n",
    "<div style=\"text-align: center\">\n",
    "<img src=\"PICTURES/DAY2-F10.png\" width=\"350\" height=\"100\" /></div>\n",
    "\n",
    "\n",
    "<div style=\"text-align: center\"> <div style=\"color:BLUE\"> <font size=\"13\"> <p><b>return STATEMENT EXAMPLE </b></p></div> </div></font>\n",
    "<div style=\"color:white\"> <font size=\"10\">\n",
    "<ul>\n",
    "  <li>We can optimize the function by having the expression in the return statement.</li>\n",
    "</ul>\n",
    "</div></font>\n",
    "<div style=\"text-align: center\">\n",
    "<img src=\"PICTURES/DAY2-F11.png\" width=\"350\" height=\"90\" /></div>\n",
    "\n",
    "<div style=\"text-align: center\"> <div style=\"color:BLUE\"> <font size=\"13\"> <p><b>Python Functions can have multiple return statements</b></p></div> </div></font>\n",
    "<div style=\"color:white\"> <font size=\"10\">\n",
    "<ul>\n",
    "  <li>Single function can have multiple return statements. Execution of the function ends when one of these return statements is reached:</li>\n",
    "</ul>\n",
    "</div></font>\n",
    "<div style=\"text-align: center\">\n",
    "<img src=\"PICTURES/DAY2-F12.png\" width=\"400\" height=\"200\" /></div>\n",
    "\n",
    "\n"
   ],
   "metadata": {
    "collapsed": false,
    "pycharm": {
     "name": "#%% md\n"
    }
   }
  },
  {
   "cell_type": "code",
   "execution_count": 92,
   "outputs": [
    {
     "name": "stdout",
     "output_type": "stream",
     "text": [
      "SUM OF 2 NUMBERS = 7\n"
     ]
    }
   ],
   "source": [
    "def add(x, y):\n",
    "    total = x + y\n",
    "    return total\n",
    "\n",
    "ans=add(2,5)\n",
    "print(\"SUM OF 2 NUMBERS =\",ans)"
   ],
   "metadata": {
    "collapsed": false,
    "pycharm": {
     "name": "#%%\n"
    }
   }
  },
  {
   "cell_type": "code",
   "execution_count": 93,
   "outputs": [
    {
     "name": "stdout",
     "output_type": "stream",
     "text": [
      "SUM OF 2 NUMBERS = 7\n"
     ]
    }
   ],
   "source": [
    "def add(x, y):\n",
    "    return x+y\n",
    "\n",
    "ans=add(2,5)\n",
    "print(\"SUM OF 2 NUMBERS =\",ans)"
   ],
   "metadata": {
    "collapsed": false,
    "pycharm": {
     "name": "#%%\n"
    }
   }
  },
  {
   "cell_type": "code",
   "execution_count": 91,
   "outputs": [
    {
     "data": {
      "text/plain": "'odd'"
     },
     "execution_count": 91,
     "metadata": {},
     "output_type": "execute_result"
    }
   ],
   "source": [
    "i=15\n",
    "def type_of_int(i):\n",
    "    if i % 2 == 0:\n",
    "        return 'even'\n",
    "    else:\n",
    "        return 'odd'\n",
    "type_of_int(i)\n"
   ],
   "metadata": {
    "collapsed": false,
    "pycharm": {
     "name": "#%%\n"
    }
   }
  },
  {
   "cell_type": "markdown",
   "source": [
    "<div style=\"text-align: center\"> <div style=\"color:BLUE\"> <font size=\"13\"> <p><b>Python Function can return multiple types of values</b></p></div> </div></font>\n",
    "<div style=\"color:white\"> <font size=\"10\">\n",
    "<ul>\n",
    "  <li>Unlike other programming languages, python functions are not restricted to return a single type of value.</li>\n",
    "  <li>If you look at the function definition, it doesn’t have any information about what it can return.</li>\n",
    "</ul>"
   ],
   "metadata": {
    "collapsed": false,
    "pycharm": {
     "name": "#%% md\n"
    }
   }
  },
  {
   "cell_type": "code",
   "execution_count": 89,
   "outputs": [
    {
     "name": "stdout",
     "output_type": "stream",
     "text": [
      "Hello World.\n",
      "42\n",
      "True\n"
     ]
    }
   ],
   "source": [
    "def various_return_types(n):\n",
    "    if(n==1):\n",
    "        return \"Hello World.\"     # Return a string\n",
    "    elif(n==2):\n",
    "        return 42                 # Return a value\n",
    "    else:\n",
    "        return True               # Return a boolean\n",
    "print(various_return_types(1))\n",
    " \t\t\t\t\t\t\t\t                   #OUTPUT-Hello World.\n",
    "print(various_return_types(2))\n",
    " \t\t\t\t\t\t\t\t                   #OUTPUT-42\n",
    "print(various_return_types(3))\n",
    " \t\t\t\t\t\t\t\t                   #OUTPUT-True\n"
   ],
   "metadata": {
    "collapsed": false,
    "pycharm": {
     "name": "#%%\n"
    }
   }
  },
  {
   "cell_type": "markdown",
   "source": [
    "<div style=\"text-align: center\"> <div style=\"color:BLUE\"> <font size=\"13\"> <p><b>Returning Multiple Values in a single return Statement</b></p></div> </div></font>\n",
    "<div style=\"color:white\"> <font size=\"10\">\n",
    "<ul>\n",
    "  <li>We can return multiple values from a single return statement. These values are separated by a comma and returned as a tuple to the caller program.</li>\n",
    "</ul>\n",
    "</div></font>\n",
    "<div style=\"text-align: center\">\n",
    "<img src=\"PICTURES/DAY2-F13.png\" width=\"400\" height=\"200\" /></div>"
   ],
   "metadata": {
    "collapsed": false,
    "pycharm": {
     "name": "#%% md\n"
    }
   }
  },
  {
   "cell_type": "code",
   "source": [
    "def return_multiple_values():\n",
    "    return 1, 2, 3\n",
    "\n",
    "print(return_multiple_values())\n",
    "print(type(return_multiple_values()))"
   ],
   "metadata": {
    "collapsed": false,
    "pycharm": {
     "name": "#%%\n"
    }
   },
   "execution_count": 94,
   "outputs": [
    {
     "name": "stdout",
     "output_type": "stream",
     "text": [
      "(1, 2, 3)\n",
      "<class 'tuple'>\n"
     ]
    }
   ]
  },
  {
   "cell_type": "code",
   "execution_count": 95,
   "outputs": [
    {
     "name": "stdout",
     "output_type": "stream",
     "text": [
      "The war was won by abc and the war ended in 1234\n"
     ]
    }
   ],
   "source": [
    "#Program to Demonstrate the Return of Multiple Values from a Function Definition\n",
    "def world_war():\n",
    "    alliance_world_war = input(\"Which alliance won World War 2?\")\n",
    "    world_war_end_year = input(\"When did World War 2 end?\")\n",
    "    return alliance_world_war, world_war_end_year\n",
    "def main():\n",
    "    alliance, war_end_year = world_war()\n",
    "    print(f\"The war was won by {alliance} and the war ended in {war_end_year}\")\n",
    "if __name__ == \"__main__\":\n",
    "    main()"
   ],
   "metadata": {
    "collapsed": false,
    "pycharm": {
     "name": "#%%\n"
    }
   }
  },
  {
   "cell_type": "code",
   "execution_count": 98,
   "outputs": [
    {
     "name": "stdout",
     "output_type": "stream",
     "text": [
      "Entered number 123 is not a Armstrong number\n"
     ]
    }
   ],
   "source": [
    "#Program to Check If a 3 Digit Number Is Armstrong Number or Not\n",
    "user_number = int(input(\"Enter a 3 digit positive number to check for Armstrong number\"))\n",
    "def check_armstrong_number(number):\n",
    "    result = 0\n",
    "    temp = number\n",
    "    while temp != 0:\n",
    "        last_digit = temp % 10\n",
    "        result += pow(last_digit, 3)\n",
    "        temp = int(temp / 10)\n",
    "    if number == result:\n",
    "        print(f\"Entered number {number} is a Armstrong number\")\n",
    "    else:\n",
    "        print(f\"Entered number {number} is not a Armstrong number\")\n",
    "\n",
    "def main():\n",
    "    check_armstrong_number(user_number)\n",
    "\n",
    "if __name__ == \"__main__\":\n",
    "    main()"
   ],
   "metadata": {
    "collapsed": false,
    "pycharm": {
     "name": "#%%\n"
    }
   }
  },
  {
   "cell_type": "markdown",
   "source": [
    "<div style=\"text-align: center\"> <div style=\"color:BLUE\"> <font size=\"13\"> <p><b>Void Functions</b></p></div> </div></font>\n",
    "<div style=\"color:white\"> <font size=\"10\">\n",
    "<ul>\n",
    "  <li>In Python, it is possible to define functions without a return statement. </li>\n",
    "  <li>Functions like this are called <strong>void</strong> functions, and they return None. </li>\n",
    "</ul>"
   ],
   "metadata": {
    "collapsed": false,
    "pycharm": {
     "name": "#%% md\n"
    }
   }
  },
  {
   "cell_type": "markdown",
   "source": [
    "<div style=\"text-align: center\"> <div style=\"color:yellow\"> <font size=\"13\"> <p><b>SCOPE & LIFETIME OF VARIABLES IN PYTHON </b></p></div> </div></font>\n",
    "<div style=\"color:white\"> <font size=\"10\">\n",
    "<ul>\n",
    "  <li>Python programs have two scopes: global and local. </li>\n",
    "  <li>A variable is a global variable if its value is accessible and modifiable throughout your program. Global variables have a global scope. </li>\n",
    "  <li>A variable that is defined inside a function definition is a local variable. </li>\n",
    "  <li>The lifetime of a variable refers to the duration of its existence. </li>\n",
    "  <li>The lifetime of a variable refers to the duration of its existence. </li>\n",
    "  <li>The local variable is created and destroyed every time the function is executed, and it cannot be accessed by any code outside the function definition. </li>\n",
    "  <li>Local variables inside a function definition have local scope and exist as long as the function is executing.</li>\n",
    "</ul>\n"
   ],
   "metadata": {
    "collapsed": false,
    "pycharm": {
     "name": "#%% md\n"
    }
   }
  },
  {
   "cell_type": "code",
   "execution_count": 99,
   "outputs": [
    {
     "name": "stdout",
     "output_type": "stream",
     "text": [
      "Local variable value of 5 having local scope to inner function is displayed\n",
      "Local variable value of 5 having local scope to outer function is displayed \n",
      "Global variable value of 5 is displayed \n"
     ]
    }
   ],
   "source": [
    "#Program to Demonstrate the Scope of Variables\n",
    "test_variable = 5\n",
    "\n",
    "def outer_function():\n",
    "    test_variable = 60\n",
    "\n",
    "def inner_function():\n",
    "    test_variable = 100\n",
    "\n",
    "print(f\"Local variable value of {test_variable} having local scope to inner function is displayed\")\n",
    "inner_function()\n",
    "print(f\"Local variable value of {test_variable} having local scope to outer function is displayed \")\n",
    "outer_function()\n",
    "print(f\"Global variable value of {test_variable} is displayed \")"
   ],
   "metadata": {
    "collapsed": false,
    "pycharm": {
     "name": "#%%\n"
    }
   }
  },
  {
   "cell_type": "markdown",
   "source": [
    "<div style=\"text-align: center\"> <div style=\"color:yellow\"> <font size=\"13\"> <p><b>ARGUMENTS IN PYTHON </b></p></div> </div></font>\n",
    "<div style=\"color:white\"> <font size=\"10\">\n",
    "<ul>\n",
    "<div style=\"text-align: LEFT\"> <div style=\"color:BLUE\"> <font size=\"13\"> <p><b>1.Python Default Arguments</b></p></div> </div></font>\n",
    "<div style=\"color:white\"> <font size=\"12\">\n",
    "  <li>Function arguments can have default values in Python.</li>\n",
    "        <li>We can provide a default value to an argument by using the assignment operator (=).</li>\n",
    "\n",
    "\n",
    "<div style=\"text-align: LEFT\"> <div style=\"color:BLUE\"> <font size=\"13\"> <p><b>2.Python Keyword Arguments </b></p></div> </div></font>\n",
    "<div style=\"color:white\"> <font size=\"12\">\n",
    "    <li>Python allows functions to be called using keyword arguments.</li>\n",
    "    <li>When we call functions in this way, the order (position) of the arguments can be changed. </li>\n",
    "    <li>In the calling function, you can explicitly specify the argument name along with their value in the form kwarg = value.</li>\n",
    "    <li> In the calling function, keyword arguments must follow positional arguments. </li>\n",
    "    <li>All the keyword arguments passed must match one of the parameters in the function definition and their order is not important. </li>\n",
    "    <li>No parameter in the function definition may receive a value more than once.</li>\n",
    "\n",
    " </ul>"
   ],
   "metadata": {
    "collapsed": false,
    "pycharm": {
     "name": "#%% md\n"
    }
   }
  },
  {
   "cell_type": "code",
   "execution_count": null,
   "outputs": [],
   "source": [
    "#ARGUMENTS IN FUNCTION-----Information can be passed into functions as arguments.\n",
    "\n",
    "def my_function(fname):\n",
    "  print(fname + \" PROGRAMMING\")\n",
    "\n",
    "my_function(\"THINKING\")\n",
    "my_function(\"INTRODUCTION TO PYTHON\")\n",
    "my_function(\"USER-DEFINED FUNCTIONS IN PYTHON\")"
   ],
   "metadata": {
    "collapsed": false,
    "pycharm": {
     "name": "#%%\n"
    }
   }
  },
  {
   "cell_type": "code",
   "execution_count": 100,
   "outputs": [
    {
     "name": "stdout",
     "output_type": "stream",
     "text": [
      "Hello KARTHIK, Good Morning!\n",
      "Hello MANJUNATH, How do you do?\n"
     ]
    }
   ],
   "source": [
    "def greet(name, msg=\"Good Morning!\"):\n",
    "    \"\"\"\n",
    "    This function greets to\n",
    "    the person with the\n",
    "    provided message.\n",
    "\n",
    "    If the message is not provided,\n",
    "    it defaults to \"Good\n",
    "    morning!\"\n",
    "    \"\"\"\n",
    "\n",
    "    print(\"Hello\", name + ', ' + msg)\n",
    "\n",
    "\n",
    "greet(\"KARTHIK\")\n",
    "greet(\"MANJUNATH\", \"How do you do?\")"
   ],
   "metadata": {
    "collapsed": false,
    "pycharm": {
     "name": "#%%\n"
    }
   }
  },
  {
   "cell_type": "markdown",
   "source": [
    "<div style=\"color:white\"> <font size=\"10\">\n",
    "<ul>\n",
    "  <li>In this function, the parameter name does not have a default value and is required (mandatory) during a call.</li>\n",
    "  <li>On the other hand, the parameter msg has a default value of \"Good morning!\". So, it is optional during a call. </li>\n",
    "  <li>If a value is provided, it will overwrite the default value.</li>\n",
    "  <li>Any number of arguments in a function can have a default value. But once we have a default argument, all the arguments to its right must also have default values.</li>\n",
    " </ul>"
   ],
   "metadata": {
    "collapsed": false,
    "pycharm": {
     "name": "#%% md\n"
    }
   }
  },
  {
   "cell_type": "code",
   "execution_count": 101,
   "outputs": [
    {
     "name": "stdout",
     "output_type": "stream",
     "text": [
      "Sam works in Data Analytics\n",
      "Alice has interest in Internet of Things\n"
     ]
    }
   ],
   "source": [
    "#Program to Demonstrate the Use of Default Parameters\n",
    "\n",
    "def work_area(prompt, domain=\"Data Analytics\"):\n",
    "    print(f\"{prompt} {domain}\")\n",
    "def main():\n",
    "    work_area(\"Sam works in\")\n",
    "    work_area(\"Alice has interest in\", \"Internet of Things\")\n",
    "if __name__ == \"__main__\":\n",
    "    main()"
   ],
   "metadata": {
    "collapsed": false,
    "pycharm": {
     "name": "#%%\n"
    }
   }
  },
  {
   "cell_type": "code",
   "source": [
    "#Program to Demonstrate the Use of Keyword Arguments\n",
    "def parrot(voltage, state='a stiff', action='voom', type='Norwegian Blue'):\n",
    "    print(f\"This parrot wouldn't {action}, if you put {voltage}, volts through it.\")\n",
    "    print(f\"Lovely plumage, the {type}\")\n",
    "    print(f\"It's {state} !!!\")\n",
    "\n",
    "parrot(1000)\n",
    "parrot(voltage=1000)\n",
    "parrot(voltage=1000000, action='VOOOOOM')\n",
    "parrot('a thousand', state='pushing up the daisies')"
   ],
   "metadata": {
    "collapsed": false,
    "pycharm": {
     "name": "#%%\n"
    }
   },
   "execution_count": 1,
   "outputs": [
    {
     "name": "stdout",
     "output_type": "stream",
     "text": [
      "This parrot wouldn't voom, if you put 1000, volts through it.\n",
      "Lovely plumage, the Norwegian Blue\n",
      "It's a stiff !!!\n",
      "This parrot wouldn't voom, if you put 1000, volts through it.\n",
      "Lovely plumage, the Norwegian Blue\n",
      "It's a stiff !!!\n",
      "This parrot wouldn't VOOOOOM, if you put 1000000, volts through it.\n",
      "Lovely plumage, the Norwegian Blue\n",
      "It's a stiff !!!\n",
      "This parrot wouldn't voom, if you put a thousand, volts through it.\n",
      "Lovely plumage, the Norwegian Blue\n",
      "It's pushing up the daisies !!!\n"
     ]
    }
   ]
  },
  {
   "cell_type": "markdown",
   "source": [
    "<div style=\"text-align: LEFT\"> <div style=\"color:BLUE\"> <font size=\"13\"> <p><b>Also, the following functional calls are invalid.</b></p></div> </div></font>\n",
    "<div style=\"color:white\"> <font size=\"10\">\n",
    "<ul>\n",
    "  <li>parrot() # required argument missing </li>\n",
    "  <li>parrot(voltage=5.0, 'dead') # non-keyword argument after a keyword argument</li>\n",
    "  <li>parrot(110, voltage=220) # duplicate value for the same argument</li>\n",
    "  <li>parrot(actor='John Cleese') # unknown keyword argument</li>\n",
    " </ul>"
   ],
   "metadata": {
    "collapsed": false,
    "pycharm": {
     "name": "#%% md\n"
    }
   }
  },
  {
   "cell_type": "code",
   "execution_count": 103,
   "outputs": [
    {
     "name": "stdout",
     "output_type": "stream",
     "text": [
      "PYTHON PROGRAMMING\n"
     ]
    }
   ],
   "source": [
    "#NUMBER OF ARGUMENTS IN FUNCTIONS---By default, a function must be called with the correct number of arguments, not more, and not less.\n",
    "\n",
    "def my_function(fname, lname):\n",
    "  print(fname + \" \" + lname)\n",
    "\n",
    "my_function(\"PYTHON\", \"PROGRAMMING\")"
   ],
   "metadata": {
    "collapsed": false,
    "pycharm": {
     "name": "#%%\n"
    }
   }
  },
  {
   "cell_type": "code",
   "execution_count": null,
   "outputs": [],
   "source": [],
   "metadata": {
    "collapsed": false,
    "pycharm": {
     "name": "#%%\n"
    }
   }
  }
 ],
 "metadata": {
  "kernelspec": {
   "display_name": "Python 3",
   "language": "python",
   "name": "python3"
  },
  "language_info": {
   "codemirror_mode": {
    "name": "ipython",
    "version": 2
   },
   "file_extension": ".py",
   "mimetype": "text/x-python",
   "name": "python",
   "nbconvert_exporter": "python",
   "pygments_lexer": "ipython2",
   "version": "2.7.6"
  }
 },
 "nbformat": 4,
 "nbformat_minor": 0
}